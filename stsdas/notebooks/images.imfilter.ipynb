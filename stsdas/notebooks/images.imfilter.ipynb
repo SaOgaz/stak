{
 "cells": [
  {
   "cell_type": "markdown",
   "metadata": {},
   "source": [
    "## Some Notes"
   ]
  },
  {
   "cell_type": "markdown",
   "metadata": {},
   "source": [
    "Astropy convolution offers two convolution options, ``convolve()`` is better for small kernels, and ``convolve_fft()`` is better for larger kernels, please see the [Astropy convolution doc page](http://docs.astropy.org/en/stable/convolution/) and [Astropy Convolution How to](http://docs.astropy.org/en/stable/convolution/using.html) for more details.  For this notebook, we will use ``convolve``. Check out the list of kernels and filters avaialble for [Astropy](http://docs.astropy.org/en/stable/convolution/#module-astropy.convolution), and [Scipy](http://docs.scipy.org/doc/scipy/reference/ndimage.html)\n",
    "\n",
    "Although ``astropy.convolution`` is built on ``scipy``, it offers several advantages:\n",
    "* can handle NaN values\n",
    "* improved options for boundaries\n",
    "* provided built in kernels\n",
    "\n",
    "So when possible, we will be using ``astropy.convolution`` functions in this notebook.\n",
    "\n",
    "<h3> <mark>Important Note</mark> </h3>\n",
    "\n",
    "You can select from the following boundary rules in ``astropy.convolution``:\n",
    "* none\n",
    "* fill\n",
    "* wrap\n",
    "* extend\n",
    "\n",
    "You can select from the following boundary rules in ``scipy.ndimage.convolution``:\n",
    "* reflect\n",
    "* constant\n",
    "* nearest\n",
    "* mirror\n",
    "* wrap"
   ]
  },
  {
   "cell_type": "markdown",
   "metadata": {},
   "source": [
    "<br>\n",
    "## General Imports\n",
    "These imports will be used for a majority of the tasks listed below.  More specific imports can be found in the task section."
   ]
  },
  {
   "cell_type": "code",
   "execution_count": 125,
   "metadata": {
    "collapsed": false
   },
   "outputs": [],
   "source": [
    "from astropy.io import fits\n",
    "import numpy as np\n",
    "from astropy.convolution import convolve as ap_convolve\n",
    "from scipy.ndimage import convolve as sp_convolve"
   ]
  },
  {
   "cell_type": "markdown",
   "metadata": {},
   "source": [
    "<br>\n",
    "## Imports for Plotting Examples"
   ]
  },
  {
   "cell_type": "code",
   "execution_count": 11,
   "metadata": {
    "collapsed": false
   },
   "outputs": [],
   "source": [
    "import matplotlib.pyplot as plt\n",
    "%matplotlib inline"
   ]
  },
  {
   "cell_type": "markdown",
   "metadata": {},
   "source": [
    "<br><br><br>\n",
    "<center> <h2>Convolution Functions</h2> </center>"
   ]
  },
  {
   "cell_type": "markdown",
   "metadata": {},
   "source": [
    "<br>\n",
    "### convolve"
   ]
  },
  {
   "cell_type": "markdown",
   "metadata": {},
   "source": [
    "The convolve task allows you to convolve your data array with a kernel of your own creation.  Here we show a simple example of a rectangular kernel applied to a 10 by 10 array using the ``astropy.convolution.convolve`` function"
   ]
  },
  {
   "cell_type": "code",
   "execution_count": 86,
   "metadata": {
    "collapsed": false
   },
   "outputs": [],
   "source": [
    "# create test array\n",
    "my_arr = np.random.randint(0,10,(10,10))\n",
    "# setup our custom kernel\n",
    "my_kernel = [[0,1,0],[1,0,1],[0,1,0],[1,0,1],[0,1,0]]\n",
    "# perform convolution\n",
    "result = ap_convolve(my_arr, my_kernel, normalize_kernel=True, boundary='wrap')"
   ]
  },
  {
   "cell_type": "code",
   "execution_count": 87,
   "metadata": {
    "collapsed": false
   },
   "outputs": [
    {
     "data": {
      "image/png": "[encoded data removed]",
      "text/plain": [
       "<matplotlib.figure.Figure at 0x11fe27050>"
      ]
     },
     "metadata": {},
     "output_type": "display_data"
    }
   ],
   "source": [
    "fig, axes = plt.subplots(nrows=1, ncols=3)\n",
    "a = axes[0].imshow(my_arr,interpolation='none', origin='lower',vmin=0, vmax=10)\n",
    "axes[0].set_title('Before Convolution')\n",
    "a = axes[1].imshow(my_kernel,interpolation='none', origin='lower',vmin=0, vmax=10)\n",
    "axes[1].set_title('Kernel')\n",
    "a = axes[2].imshow(result,interpolation='none', origin='lower',vmin=0, vmax=10)\n",
    "axes[2].set_title('After Convolution')\n",
    "\n",
    "fig.subplots_adjust(right = 0.8,left=0)\n",
    "cbar_ax = fig.add_axes([0.85, 0.15, 0.05, 0.7])\n",
    "fig.colorbar(a, cax=cbar_ax)\n",
    "plt.show()"
   ]
  },
  {
   "cell_type": "markdown",
   "metadata": {},
   "source": [
    "<br>\n",
    "### boxcar"
   ]
  },
  {
   "cell_type": "markdown",
   "metadata": {},
   "source": [
    "The boxcar convolution does a boxcar smoothing with a given box size, and applies this running average to an array.  Here we show a 2-D example using ``Box2DKernel``, which is convient for square box sizes."
   ]
  },
  {
   "cell_type": "code",
   "execution_count": 88,
   "metadata": {
    "collapsed": true
   },
   "outputs": [],
   "source": [
    "from astropy.convolution import Box2DKernel"
   ]
  },
  {
   "cell_type": "code",
   "execution_count": 89,
   "metadata": {
    "collapsed": true
   },
   "outputs": [],
   "source": [
    "# create test array\n",
    "my_arr = np.random.randint(0,10,(10,10))\n",
    "# setup our kernel\n",
    "box_kernel = Box2DKernel(3)\n",
    "# perform convolution\n",
    "result = ap_convolve(my_arr, box_kernel, normalize_kernel=True)"
   ]
  },
  {
   "cell_type": "code",
   "execution_count": 90,
   "metadata": {
    "collapsed": false
   },
   "outputs": [
    {
     "data": {
      "image/png": "[encoded data removed]",
      "text/plain": [
       "<matplotlib.figure.Figure at 0x120bac550>"
      ]
     },
     "metadata": {},
     "output_type": "display_data"
    }
   ],
   "source": [
    "fig, axes = plt.subplots(nrows=1, ncols=3)\n",
    "a = axes[0].imshow(my_arr,interpolation='none', origin='lower',vmin=0, vmax=10)\n",
    "axes[0].set_title('Before Convolution')\n",
    "a = axes[1].imshow(box_kernel,interpolation='none', origin='lower',vmin=0, vmax=10)\n",
    "axes[1].set_title('Kernel')\n",
    "a = axes[2].imshow(result,interpolation='none', origin='lower',vmin=0, vmax=10)\n",
    "axes[2].set_title('After Convolution')\n",
    "\n",
    "fig.subplots_adjust(right = 0.8,left=0)\n",
    "cbar_ax = fig.add_axes([0.85, 0.15, 0.05, 0.7])\n",
    "fig.colorbar(a, cax=cbar_ax)\n",
    "plt.show()"
   ]
  },
  {
   "cell_type": "markdown",
   "metadata": {},
   "source": [
    "Add example of rectangular boxcar / ask astropy why they didn't include this..."
   ]
  },
  {
   "cell_type": "markdown",
   "metadata": {},
   "source": [
    "<br>\n",
    "### gauss"
   ]
  },
  {
   "cell_type": "markdown",
   "metadata": {},
   "source": [
    "The gaussian kernel convolution applies a gaussian function convolution to your data array.  The ``Gaussian2DKernel`` size is defined slightly differently from the IRAF version: http://docs.astropy.org/en/stable/api/astropy.convolution.Gaussian2DKernel.html#astropy.convolution.Gaussian2DKernel"
   ]
  },
  {
   "cell_type": "code",
   "execution_count": 91,
   "metadata": {
    "collapsed": true
   },
   "outputs": [],
   "source": [
    "from astropy.convolution import Gaussian2DKernel"
   ]
  },
  {
   "cell_type": "code",
   "execution_count": 92,
   "metadata": {
    "collapsed": false
   },
   "outputs": [
    {
     "data": {
      "text/plain": [
       "<astropy.convolution.kernels.Gaussian2DKernel at 0x11d3d3a10>"
      ]
     },
     "execution_count": 92,
     "metadata": {},
     "output_type": "execute_result"
    }
   ],
   "source": [
    "# create test array\n",
    "my_arr = np.random.randint(0,10,(30,30))\n",
    "# setup our kernel, with 6 sigma and a 3 in x by 5 in y size\n",
    "gauss_kernel = Gaussian2DKernel(6, x_size=5, y_size=7)\n",
    "# perform convolution\n",
    "result = ap_convolve(my_arr, gauss_kernel, normalize_kernel=True)\n",
    "\n",
    "gauss_kernel"
   ]
  },
  {
   "cell_type": "code",
   "execution_count": 93,
   "metadata": {
    "collapsed": false
   },
   "outputs": [
    {
     "data": {
      "image/png": "[encoded data removed]",
      "text/plain": [
       "<matplotlib.figure.Figure at 0x11f591410>"
      ]
     },
     "metadata": {},
     "output_type": "display_data"
    }
   ],
   "source": [
    "plt.imshow(gauss_kernel, interpolation='none', origin='lower')\n",
    "plt.title('Kernel')\n",
    "plt.colorbar()\n",
    "plt.show()"
   ]
  },
  {
   "cell_type": "code",
   "execution_count": 94,
   "metadata": {
    "collapsed": false
   },
   "outputs": [
    {
     "data": {
      "image/png": "[encoded data removed]",
      "text/plain": [
       "<matplotlib.figure.Figure at 0x120fd4190>"
      ]
     },
     "metadata": {},
     "output_type": "display_data"
    }
   ],
   "source": [
    "fig, axes = plt.subplots(nrows=1, ncols=2)\n",
    "a = axes[0].imshow(my_arr,interpolation='none', origin='lower',vmin=0, vmax=10)\n",
    "axes[0].set_title('Before Convolution')\n",
    "a = axes[1].imshow(result,interpolation='none', origin='lower',vmin=0, vmax=10)\n",
    "axes[1].set_title('After Convolution')\n",
    "\n",
    "fig.subplots_adjust(right = 0.8,left=0)\n",
    "cbar_ax = fig.add_axes([0.85, 0.15, 0.05, 0.7])\n",
    "fig.colorbar(a, cax=cbar_ax)\n",
    "plt.show()"
   ]
  },
  {
   "cell_type": "markdown",
   "metadata": {},
   "source": [
    "<br>\n",
    "### laplace"
   ]
  },
  {
   "cell_type": "markdown",
   "metadata": {},
   "source": [
    "The laplace task runs a image convolution using a laplacian filter with a subset of footprints.  For the ``scipy.ndimage.filter.laplace`` function we will be using, you can feed any footprint in as an array to create your kernel."
   ]
  },
  {
   "cell_type": "code",
   "execution_count": 96,
   "metadata": {
    "collapsed": true
   },
   "outputs": [],
   "source": [
    "from scipy.ndimage import laplace"
   ]
  },
  {
   "cell_type": "code",
   "execution_count": 105,
   "metadata": {
    "collapsed": false
   },
   "outputs": [],
   "source": [
    "# create test array\n",
    "my_arr = np.random.randint(0,10,(10,10))\n",
    "# setup our laplace kernel with a target footprint (diagonals in IRAF)\n",
    "footprint = np.array([[0, 1, 0], [1, 1, 1], [0, 1, 0]])\n",
    "laplace_kernel = laplace(footprint)\n",
    "# perform scipy convolution\n",
    "result = sp_convolve(my_arr, laplace_kernel)"
   ]
  },
  {
   "cell_type": "code",
   "execution_count": 106,
   "metadata": {
    "collapsed": false
   },
   "outputs": [
    {
     "data": {
      "image/png": "[encoded data removed]",
      "text/plain": [
       "<matplotlib.figure.Figure at 0x12140c850>"
      ]
     },
     "metadata": {},
     "output_type": "display_data"
    }
   ],
   "source": [
    "plt.imshow(laplace_kernel, interpolation='none', origin='lower')\n",
    "plt.title('Kernel')\n",
    "plt.colorbar()\n",
    "plt.show()"
   ]
  },
  {
   "cell_type": "code",
   "execution_count": 107,
   "metadata": {
    "collapsed": false
   },
   "outputs": [
    {
     "data": {
      "image/png": "[encoded data removed]",
      "text/plain": [
       "<matplotlib.figure.Figure at 0x11f584490>"
      ]
     },
     "metadata": {},
     "output_type": "display_data"
    }
   ],
   "source": [
    "fig, axes = plt.subplots(nrows=1, ncols=2)\n",
    "a = axes[0].imshow(my_arr,interpolation='none', origin='lower',vmin=-40, vmax=40)\n",
    "axes[0].set_title('Before Convolution')\n",
    "a = axes[1].imshow(result,interpolation='none', origin='lower',vmin=-40, vmax=40)\n",
    "axes[1].set_title('After Convolution')\n",
    "\n",
    "fig.subplots_adjust(right = 0.8,left=0)\n",
    "cbar_ax = fig.add_axes([0.85, 0.15, 0.05, 0.7])\n",
    "fig.colorbar(a, cax=cbar_ax)\n",
    "plt.show()"
   ]
  },
  {
   "cell_type": "markdown",
   "metadata": {},
   "source": [
    "<br>\n",
    "### gradient"
   ]
  },
  {
   "cell_type": "code",
   "execution_count": 108,
   "metadata": {
    "collapsed": true
   },
   "outputs": [],
   "source": [
    "from scipy.ndimage.filters import generic_gradient_magnitude\n",
    "from scipy.misc import derivative\n",
    "from scipy import exp2"
   ]
  },
  {
   "cell_type": "code",
   "execution_count": 56,
   "metadata": {
    "collapsed": true
   },
   "outputs": [
    {
     "name": "stdout",
     "output_type": "stream",
     "text": [
      "1.99999999995\n"
     ]
    },
    {
     "ename": "TypeError",
     "evalue": "f() takes exactly 1 argument (5 given)",
     "output_type": "error",
     "traceback": [
      "\u001b[0;31m---------------------------------------------------------------------------\u001b[0m",
      "\u001b[0;31mTypeError\u001b[0m                                 Traceback (most recent call last)",
      "\u001b[0;32m<ipython-input-56-4de9aeb9411c>\u001b[0m in \u001b[0;36m<module>\u001b[0;34m()\u001b[0m\n\u001b[1;32m      2\u001b[0m \u001b[0mder\u001b[0m \u001b[0;34m=\u001b[0m \u001b[0mderivative\u001b[0m\u001b[0;34m(\u001b[0m\u001b[0mf\u001b[0m\u001b[0;34m,\u001b[0m\u001b[0;36m1.0\u001b[0m\u001b[0;34m,\u001b[0m\u001b[0mdx\u001b[0m\u001b[0;34m=\u001b[0m\u001b[0;36m1e-6\u001b[0m\u001b[0;34m)\u001b[0m\u001b[0;34m\u001b[0m\u001b[0m\n\u001b[1;32m      3\u001b[0m \u001b[0;32mprint\u001b[0m \u001b[0mder\u001b[0m\u001b[0;34m\u001b[0m\u001b[0m\n\u001b[0;32m----> 4\u001b[0;31m \u001b[0mout\u001b[0m \u001b[0;34m=\u001b[0m \u001b[0mgeneric_gradient_magnitude\u001b[0m\u001b[0;34m(\u001b[0m\u001b[0mfootprint\u001b[0m\u001b[0;34m,\u001b[0m\u001b[0mf\u001b[0m\u001b[0;34m)\u001b[0m\u001b[0;34m\u001b[0m\u001b[0m\n\u001b[0m\u001b[1;32m      5\u001b[0m \u001b[0mout\u001b[0m\u001b[0;34m\u001b[0m\u001b[0m\n",
      "\u001b[0;32m/Users/ogaz/miniconda2/envs/irafdev/lib/python2.7/site-packages/scipy/ndimage/filters.pyc\u001b[0m in \u001b[0;36mgeneric_gradient_magnitude\u001b[0;34m(input, derivative, output, mode, cval, extra_arguments, extra_keywords)\u001b[0m\n\u001b[1;32m    534\u001b[0m     \u001b[0;32mif\u001b[0m \u001b[0mlen\u001b[0m\u001b[0;34m(\u001b[0m\u001b[0maxes\u001b[0m\u001b[0;34m)\u001b[0m \u001b[0;34m>\u001b[0m \u001b[0;36m0\u001b[0m\u001b[0;34m:\u001b[0m\u001b[0;34m\u001b[0m\u001b[0m\n\u001b[1;32m    535\u001b[0m         derivative(input, axes[0], output, mode, cval,\n\u001b[0;32m--> 536\u001b[0;31m                    *extra_arguments, **extra_keywords)\n\u001b[0m\u001b[1;32m    537\u001b[0m         \u001b[0mnumpy\u001b[0m\u001b[0;34m.\u001b[0m\u001b[0mmultiply\u001b[0m\u001b[0;34m(\u001b[0m\u001b[0moutput\u001b[0m\u001b[0;34m,\u001b[0m \u001b[0moutput\u001b[0m\u001b[0;34m,\u001b[0m \u001b[0moutput\u001b[0m\u001b[0;34m)\u001b[0m\u001b[0;34m\u001b[0m\u001b[0m\n\u001b[1;32m    538\u001b[0m         \u001b[0;32mfor\u001b[0m \u001b[0mii\u001b[0m \u001b[0;32min\u001b[0m \u001b[0mrange\u001b[0m\u001b[0;34m(\u001b[0m\u001b[0;36m1\u001b[0m\u001b[0;34m,\u001b[0m \u001b[0mlen\u001b[0m\u001b[0;34m(\u001b[0m\u001b[0maxes\u001b[0m\u001b[0;34m)\u001b[0m\u001b[0;34m)\u001b[0m\u001b[0;34m:\u001b[0m\u001b[0;34m\u001b[0m\u001b[0m\n",
      "\u001b[0;31mTypeError\u001b[0m: f() takes exactly 1 argument (5 given)"
     ]
    }
   ],
   "source": [
    "footprint = np.array([[1, 1, 1], [1, 1, 1], [1, 1, 1]])\n",
    "out = generic_gradient_magnitude(footprint,????)"
   ]
  },
  {
   "cell_type": "markdown",
   "metadata": {},
   "source": [
    "<br><br>\n",
    "<center> <h2>Convolution Function With Masking</h2> </center>"
   ]
  },
  {
   "cell_type": "markdown",
   "metadata": {},
   "source": [
    "Here is an example using masking with ``astropy.convolve``"
   ]
  },
  {
   "cell_type": "code",
   "execution_count": 136,
   "metadata": {
    "collapsed": false
   },
   "outputs": [],
   "source": [
    "# create test array\n",
    "my_arr = np.random.random_sample((10,10)) * 10\n",
    "my_arr[5,5] = np.nan\n",
    "my_arr[2,8] = np.nan\n",
    "# setup our custom kernel\n",
    "my_kernel = [[0,1,0],[1,0,1],[0,1,0],[1,0,1],[0,1,0]]\n",
    "# perform convolution\n",
    "result = ap_convolve(my_arr, my_kernel, normalize_kernel=True, boundary='wrap')"
   ]
  },
  {
   "cell_type": "code",
   "execution_count": 137,
   "metadata": {
    "collapsed": false
   },
   "outputs": [
    {
     "data": {
      "image/png": "[encoded data removed]",
      "text/plain": [
       "<matplotlib.figure.Figure at 0x122e3edd0>"
      ]
     },
     "metadata": {},
     "output_type": "display_data"
    }
   ],
   "source": [
    "fig, axes = plt.subplots(nrows=1, ncols=3)\n",
    "a = axes[0].imshow(my_arr,interpolation='none', origin='lower',vmin=0, vmax=10)\n",
    "axes[0].set_title('Before Convolution')\n",
    "a = axes[1].imshow(my_kernel,interpolation='none', origin='lower',vmin=0, vmax=10)\n",
    "axes[1].set_title('Kernel')\n",
    "a = axes[2].imshow(result,interpolation='none', origin='lower',vmin=0, vmax=10)\n",
    "axes[2].set_title('After Convolution')\n",
    "\n",
    "fig.subplots_adjust(right = 0.8,left=0)\n",
    "cbar_ax = fig.add_axes([0.85, 0.15, 0.05, 0.7])\n",
    "fig.colorbar(a, cax=cbar_ax)\n",
    "plt.show()"
   ]
  },
  {
   "cell_type": "markdown",
   "metadata": {},
   "source": [
    "Here is an example using masking with ``scipy.convolve``"
   ]
  },
  {
   "cell_type": "code",
   "execution_count": 146,
   "metadata": {
    "collapsed": false
   },
   "outputs": [],
   "source": [
    "# create test array\n",
    "my_arr = np.random.random_sample((10,10)) * 10\n",
    "my_arr[5,5] = np.nan\n",
    "my_arr[2,8] = np.nan\n",
    "# setup our custom kernel\n",
    "my_kernel = np.array([[0,1,0],[1,0,1],[0,1,0],[1,0,1],[0,1,0]]) * (1/7.0)\n",
    "# perform convolution\n",
    "result = sp_convolve(my_arr, my_kernel, mode='wrap')"
   ]
  },
  {
   "cell_type": "code",
   "execution_count": 147,
   "metadata": {
    "collapsed": false
   },
   "outputs": [
    {
     "data": {
      "image/png": "[encoded data removed]",
      "text/plain": [
       "<matplotlib.figure.Figure at 0x11eb040d0>"
      ]
     },
     "metadata": {},
     "output_type": "display_data"
    }
   ],
   "source": [
    "fig, axes = plt.subplots(nrows=1, ncols=3)\n",
    "a = axes[0].imshow(my_arr,interpolation='none', origin='lower',vmin=0, vmax=10)\n",
    "axes[0].set_title('Before Convolution')\n",
    "a = axes[1].imshow(my_kernel,interpolation='none', origin='lower',vmin=0, vmax=10)\n",
    "axes[1].set_title('Kernel')\n",
    "a = axes[2].imshow(result,interpolation='none', origin='lower',vmin=0, vmax=10)\n",
    "axes[2].set_title('After Convolution')\n",
    "\n",
    "fig.subplots_adjust(right = 0.8,left=0)\n",
    "cbar_ax = fig.add_axes([0.85, 0.15, 0.05, 0.7])\n",
    "fig.colorbar(a, cax=cbar_ax)\n",
    "plt.show()"
   ]
  },
  {
   "cell_type": "markdown",
   "metadata": {},
   "source": [
    "<br><br>\n",
    "<center> <h2>Filter Functions</h2> </center>"
   ]
  },
  {
   "cell_type": "markdown",
   "metadata": {},
   "source": [
    "<br>\n",
    "### median / rmedian"
   ]
  },
  {
   "cell_type": "markdown",
   "metadata": {},
   "source": [
    "Apply a median filter to your data array.  We will use the ``scipy.ndimage.filters.median_filter`` function."
   ]
  },
  {
   "cell_type": "code",
   "execution_count": 110,
   "metadata": {
    "collapsed": true
   },
   "outputs": [],
   "source": [
    "from scipy.ndimage.filters import median_filter"
   ]
  },
  {
   "cell_type": "code",
   "execution_count": 111,
   "metadata": {
    "collapsed": false
   },
   "outputs": [],
   "source": [
    "# create test array\n",
    "my_arr = np.random.randint(0,10,(10,10))\n",
    "# apply median filter\n",
    "filtered = median_filter(my_arr,size=(3,4))"
   ]
  },
  {
   "cell_type": "code",
   "execution_count": 112,
   "metadata": {
    "collapsed": false
   },
   "outputs": [
    {
     "data": {
      "image/png": "[encoded data removed]",
      "text/plain": [
       "<matplotlib.figure.Figure at 0x11fd79410>"
      ]
     },
     "metadata": {},
     "output_type": "display_data"
    }
   ],
   "source": [
    "fig, axes = plt.subplots(nrows=1, ncols=2)\n",
    "a = axes[0].imshow(my_arr,interpolation='none', origin='lower',vmin=0, vmax=10)\n",
    "axes[0].set_title('Before Filter')\n",
    "a = axes[1].imshow(filtered,interpolation='none', origin='lower',vmin=0, vmax=10)\n",
    "axes[1].set_title('After Filter')\n",
    "\n",
    "fig.subplots_adjust(right = 0.8,left=0)\n",
    "cbar_ax = fig.add_axes([0.85, 0.15, 0.05, 0.7])\n",
    "fig.colorbar(a, cax=cbar_ax)\n",
    "plt.show()"
   ]
  },
  {
   "cell_type": "markdown",
   "metadata": {},
   "source": [
    "For a ring median filter we can supply a more specific footprint to the ``median_filter`` function.  You can easily generate this footprint using the ``astroimtools`` library"
   ]
  },
  {
   "cell_type": "code",
   "execution_count": 113,
   "metadata": {
    "collapsed": false
   },
   "outputs": [
    {
     "name": "stderr",
     "output_type": "stream",
     "text": [
      "WARNING: AstropyDeprecationWarning: astropy.utils.compat.argparse is now deprecated - use the argparse module directly instead [astropy.utils.compat.argparse]\n"
     ]
    }
   ],
   "source": [
    "from astroimtools import circular_annulus_footprint\n",
    "\n",
    "#depreciation warning, is fixed already in the dev version, not sure when this is getting pushed"
   ]
  },
  {
   "cell_type": "code",
   "execution_count": 114,
   "metadata": {
    "collapsed": true
   },
   "outputs": [],
   "source": [
    "# create test array\n",
    "my_arr = np.random.randint(0,10,(10,10))\n",
    "# create annulus filter\n",
    "fp = circular_annulus_footprint(10, 12)\n",
    "# apply median filter\n",
    "filtered = median_filter(my_arr, footprint=fp)"
   ]
  },
  {
   "cell_type": "code",
   "execution_count": 115,
   "metadata": {
    "collapsed": false
   },
   "outputs": [
    {
     "data": {
      "image/png": "[encoded data removed]",
      "text/plain": [
       "<matplotlib.figure.Figure at 0x11f89bc50>"
      ]
     },
     "metadata": {},
     "output_type": "display_data"
    }
   ],
   "source": [
    "fig, axes = plt.subplots(nrows=1, ncols=2)\n",
    "a = axes[0].imshow(my_arr,interpolation='none', origin='lower',vmin=0, vmax=10)\n",
    "axes[0].set_title('Before Filter')\n",
    "a = axes[1].imshow(filtered,interpolation='none', origin='lower',vmin=0, vmax=10)\n",
    "axes[1].set_title('After Filter')\n",
    "\n",
    "fig.subplots_adjust(right = 0.8,left=0)\n",
    "cbar_ax = fig.add_axes([0.85, 0.15, 0.05, 0.7])\n",
    "fig.colorbar(a, cax=cbar_ax)\n",
    "plt.show()"
   ]
  },
  {
   "cell_type": "markdown",
   "metadata": {},
   "source": [
    "<br><br>\n",
    "<center> <h2>Creating Your Own Filter Functions</h2> </center>"
   ]
  },
  {
   "cell_type": "markdown",
   "metadata": {},
   "source": [
    "<br>\n",
    "###  mode / rmode"
   ]
  },
  {
   "cell_type": "markdown",
   "metadata": {},
   "source": [
    "The mode calculation equation used in the mode and rmode IRAF tasks (3.0\\*median - 2.0\\*mean) can be recreated using the ``scipy.ndimage.generic_filter`` function. ** explination for approximation**"
   ]
  },
  {
   "cell_type": "code",
   "execution_count": 116,
   "metadata": {
    "collapsed": true
   },
   "outputs": [],
   "source": [
    "from scipy.ndimage import generic_filter\n",
    "from astroimtools import circular_annulus_footprint"
   ]
  },
  {
   "cell_type": "code",
   "execution_count": 117,
   "metadata": {
    "collapsed": false
   },
   "outputs": [],
   "source": [
    "def mode_func(in_arr):\n",
    "    f = 3.0*np.median(in_arr) - 2.0*np.mean(in_arr)\n",
    "    return f"
   ]
  },
  {
   "cell_type": "markdown",
   "metadata": {},
   "source": [
    "For a box footprint:"
   ]
  },
  {
   "cell_type": "code",
   "execution_count": 118,
   "metadata": {
    "collapsed": false
   },
   "outputs": [],
   "source": [
    "# create test array\n",
    "my_arr = np.random.randint(0,10,(10,10))\n",
    "# apply mode filter\n",
    "filtered = generic_filter(my_arr,mode_func,size=5)"
   ]
  },
  {
   "cell_type": "code",
   "execution_count": 119,
   "metadata": {
    "collapsed": false
   },
   "outputs": [
    {
     "data": {
      "image/png": "[encoded data removed]",
      "text/plain": [
       "<matplotlib.figure.Figure at 0x120ccf910>"
      ]
     },
     "metadata": {},
     "output_type": "display_data"
    }
   ],
   "source": [
    "fig, axes = plt.subplots(nrows=1, ncols=2)\n",
    "a = axes[0].imshow(my_arr,interpolation='none', origin='lower',vmin=0, vmax=10)\n",
    "axes[0].set_title('Before Filter')\n",
    "a = axes[1].imshow(filtered,interpolation='none', origin='lower',vmin=0, vmax=10)\n",
    "axes[1].set_title('After Filter')\n",
    "\n",
    "fig.subplots_adjust(right = 0.8,left=0)\n",
    "cbar_ax = fig.add_axes([0.85, 0.15, 0.05, 0.7])\n",
    "fig.colorbar(a, cax=cbar_ax)\n",
    "plt.show()"
   ]
  },
  {
   "cell_type": "markdown",
   "metadata": {},
   "source": [
    "For a ring footprint:"
   ]
  },
  {
   "cell_type": "code",
   "execution_count": 120,
   "metadata": {
    "collapsed": false
   },
   "outputs": [],
   "source": [
    "# create test array\n",
    "my_arr = np.random.randint(0,10,(20,20))\n",
    "# create annulus filter\n",
    "fp = circular_annulus_footprint(5, 9)\n",
    "# apply mode filter\n",
    "filtered = generic_filter(my_arr,mode_func,footprint=fp)"
   ]
  },
  {
   "cell_type": "code",
   "execution_count": 121,
   "metadata": {
    "collapsed": false
   },
   "outputs": [
    {
     "data": {
      "image/png": "[encoded data removed]",
      "text/plain": [
       "<matplotlib.figure.Figure at 0x122c7c210>"
      ]
     },
     "metadata": {},
     "output_type": "display_data"
    }
   ],
   "source": [
    "fig, axes = plt.subplots(nrows=1, ncols=2)\n",
    "a = axes[0].imshow(my_arr,interpolation='none', origin='lower',vmin=0, vmax=10)\n",
    "axes[0].set_title('Before Filter')\n",
    "a = axes[1].imshow(filtered,interpolation='none', origin='lower',vmin=0, vmax=10)\n",
    "axes[1].set_title('After Filter')\n",
    "\n",
    "fig.subplots_adjust(right = 0.8,left=0)\n",
    "cbar_ax = fig.add_axes([0.85, 0.15, 0.05, 0.7])\n",
    "fig.colorbar(a, cax=cbar_ax)\n",
    "plt.show()"
   ]
  },
  {
   "cell_type": "markdown",
   "metadata": {},
   "source": [
    "<br><br>\n",
    "## Not Replacing"
   ]
  },
  {
   "cell_type": "markdown",
   "metadata": {},
   "source": [
    "* runmed - see **images.imutil.imsum**\n",
    "* fmode"
   ]
  },
  {
   "cell_type": "markdown",
   "metadata": {},
   "source": [
    "### fmedian\n",
    "\n",
    "runmed seems to be kind of complicated, should figure out if people ever use this..."
   ]
  },
  {
   "cell_type": "markdown",
   "metadata": {},
   "source": [
    "### to-do\n",
    "* Go over plot examples (with Larry?)\n",
    "* figure out gradient usage\n",
    "* figure out fmedian (is it used?)"
   ]
  },
  {
   "cell_type": "code",
   "execution_count": null,
   "metadata": {
    "collapsed": true
   },
   "outputs": [],
   "source": []
  }
 ],
 "metadata": {
  "kernelspec": {
   "display_name": "Python 2",
   "language": "python",
   "name": "python2"
  },
  "language_info": {
   "codemirror_mode": {
    "name": "ipython",
    "version": 2
   },
   "file_extension": ".py",
   "mimetype": "text/x-python",
   "name": "python",
   "nbconvert_exporter": "python",
   "pygments_lexer": "ipython2",
   "version": "2.7.12"
  }
 },
 "nbformat": 4,
 "nbformat_minor": 0
}
