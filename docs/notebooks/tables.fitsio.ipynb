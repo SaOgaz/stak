{
 "cells": [
  {
   "cell_type": "markdown",
   "metadata": {},
   "source": [
    "# tables.fitsio"
   ]
  },
  {
   "cell_type": "markdown",
   "metadata": {},
   "source": [
    "<a id='notes'></a>\n",
    "\n",
    "## Notes"
   ]
  },
  {
   "cell_type": "markdown",
   "metadata": {},
   "source": [
    "\n",
    "\n",
    "Contents:\n",
    "\n",
    "* [catfits](#catfits)"
   ]
  },
  {
   "cell_type": "markdown",
   "metadata": {},
   "source": [
    "<br>"
   ]
  },
  {
   "cell_type": "markdown",
   "metadata": {},
   "source": [
    "<a id='catfits'></a>\n",
    "\n",
    "## catfits"
   ]
  },
  {
   "cell_type": "markdown",
   "metadata": {},
   "source": [
    "** Please review the [Notes](#notes) section above before running any examples in this notebook **"
   ]
  },
  {
   "cell_type": "code",
   "execution_count": 4,
   "metadata": {
    "collapsed": true
   },
   "outputs": [],
   "source": [
    "# Standard Imports\n",
    "import glob\n",
    "\n",
    "# Astronomy Specific Imports\n",
    "from astropy.io import fits"
   ]
  },
  {
   "cell_type": "code",
   "execution_count": 5,
   "metadata": {
    "collapsed": false
   },
   "outputs": [
    {
     "name": "stdout",
     "output_type": "stream",
     "text": [
      "Filename: /eng/ssb/iraf_transition/test_data/iczgs3ygq_flt.fits\n",
      "No.    Name         Type      Cards   Dimensions   Format\n",
      "0    PRIMARY     PrimaryHDU     266   ()              \n",
      "1    SCI         ImageHDU       140   (1014, 1014)   float32   \n",
      "2    ERR         ImageHDU        51   (1014, 1014)   float32   \n",
      "3    DQ          ImageHDU        43   (1014, 1014)   int16   \n",
      "4    SAMP        ImageHDU        37   (1014, 1014)   int16   \n",
      "5    TIME        ImageHDU        37   (1014, 1014)   float32   \n",
      "6    WCSCORR     BinTableHDU     59   7R x 24C     [40A, I, A, 24A, 24A, 24A, 24A, D, D, D, D, D, D, D, D, 24A, 24A, D, D, D, D, J, 40A, 128A]   \n",
      "Filename: /eng/ssb/iraf_transition/test_data/iczgs3ygq_newdtype_flt.fits\n",
      "No.    Name         Type      Cards   Dimensions   Format\n",
      "0    PRIMARY     PrimaryHDU     266   ()              \n",
      "1    SCI         ImageHDU       140   (1014, 1014)   int32   \n",
      "2    ERR         ImageHDU        51   (1014, 1014)   float32   \n",
      "3    DQ          ImageHDU        43   (1014, 1014)   int16   \n",
      "4    SAMP        ImageHDU        37   (1014, 1014)   int16   \n",
      "5    TIME        ImageHDU        37   (1014, 1014)   float32   \n",
      "6    WCSCORR     BinTableHDU     59   7R x 24C     [40A, I, A, 24A, 24A, 24A, 24A, D, D, D, D, D, D, D, D, 24A, 24A, D, D, D, D, J, 40A, 128A]   \n",
      "Filename: /eng/ssb/iraf_transition/test_data/iczgs3y5q_flt.fits\n",
      "No.    Name         Type      Cards   Dimensions   Format\n",
      "0    PRIMARY     PrimaryHDU     265   ()              \n",
      "1    SCI         ImageHDU       140   (1014, 1014)   float32   \n",
      "2    ERR         ImageHDU        51   (1014, 1014)   float32   \n",
      "3    DQ          ImageHDU        43   (1014, 1014)   int16   \n",
      "4    SAMP        ImageHDU        37   (1014, 1014)   int16   \n",
      "5    TIME        ImageHDU        37   (1014, 1014)   float32   \n",
      "6    WCSCORR     BinTableHDU     59   7R x 24C     [40A, I, A, 24A, 24A, 24A, 24A, D, D, D, D, D, D, D, D, 24A, 24A, D, D, D, D, J, 40A, 128A]   \n",
      "Filename: /eng/ssb/iraf_transition/test_data/imarith_out.fits\n",
      "No.    Name         Type      Cards   Dimensions   Format\n",
      "0    PRIMARY     PrimaryHDU     266   ()              \n",
      "1    SCI         ImageHDU       140   (1014, 1014)   float32   \n",
      "2    ERR         ImageHDU        51   (1014, 1014)   float32   \n",
      "3    DQ          ImageHDU        43   (1014, 1014)   int16   \n",
      "4    SAMP        ImageHDU        37   (1014, 1014)   int16   \n",
      "5    TIME        ImageHDU        37   (1014, 1014)   float32   \n",
      "6    WCSCORR     BinTableHDU     59   7R x 24C     [40A, I, A, 24A, 24A, 24A, 24A, D, D, D, D, D, D, D, D, 24A, 24A, D, D, D, D, J, 40A, 128A]   \n",
      "Filename: /eng/ssb/iraf_transition/test_data/imfunction_out.fits\n",
      "No.    Name         Type      Cards   Dimensions   Format\n",
      "0    PRIMARY     PrimaryHDU     266   ()              \n",
      "1    SCI         ImageHDU       140   (1014, 1014)   float64   \n",
      "2    ERR         ImageHDU        51   (1014, 1014)   float32   \n",
      "3    DQ          ImageHDU        43   (1014, 1014)   int16   \n",
      "4    SAMP        ImageHDU        37   (1014, 1014)   int16   \n",
      "5    TIME        ImageHDU        37   (1014, 1014)   float32   \n",
      "6    WCSCORR     BinTableHDU     59   7R x 24C     [40A, I, A, 24A, 24A, 24A, 24A, D, D, D, D, D, D, D, D, 24A, 24A, D, D, D, D, J, 40A, 128A]   \n",
      "Filename: /eng/ssb/iraf_transition/test_data/imcopy_out.fits\n",
      "No.    Name         Type      Cards   Dimensions   Format\n",
      "0    PRIMARY     PrimaryHDU     266   ()              \n",
      "1    SCI         ImageHDU       140   (1014, 1014)   float32   \n",
      "2    ERR         ImageHDU        51   (1014, 1014)   float32   \n",
      "3    DQ          ImageHDU        43   (1014, 1014)   int16   \n",
      "4    SAMP        ImageHDU        37   (1014, 1014)   int16   \n",
      "5    TIME        ImageHDU        37   (1014, 1014)   float32   \n",
      "6    WCSCORR     BinTableHDU     59   7R x 24C     [40A, I, A, 24A, 24A, 24A, 24A, D, D, D, D, D, D, D, D, 24A, 24A, D, D, D, D, J, 40A, 128A]   \n",
      "Filename: /eng/ssb/iraf_transition/test_data/imfunction2_out.fits\n",
      "No.    Name         Type      Cards   Dimensions   Format\n",
      "0    PRIMARY     PrimaryHDU     266   ()              \n",
      "1    SCI         ImageHDU       140   (1014, 1014)   float64   \n",
      "2    ERR         ImageHDU        51   (1014, 1014)   float32   \n",
      "3    DQ          ImageHDU        43   (1014, 1014)   int16   \n",
      "4    SAMP        ImageHDU        37   (1014, 1014)   int16   \n",
      "5    TIME        ImageHDU        37   (1014, 1014)   float32   \n",
      "6    WCSCORR     BinTableHDU     59   7R x 24C     [40A, I, A, 24A, 24A, 24A, 24A, D, D, D, D, D, D, D, D, 24A, 24A, D, D, D, D, J, 40A, 128A]   \n"
     ]
    }
   ],
   "source": [
    "# Change these values to your desired data files, glob will capture all wildcard matches\n",
    "test_data = glob.glob('/eng/ssb/iraf_transition/test_data/*.fits')\n",
    "\n",
    "for filename in test_data:\n",
    "    fits.info(filename)"
   ]
  },
  {
   "cell_type": "code",
   "execution_count": null,
   "metadata": {
    "collapsed": true
   },
   "outputs": [],
   "source": []
  }
 ],
 "metadata": {
  "kernelspec": {
   "display_name": "Python 2",
   "language": "python",
   "name": "python2"
  },
  "language_info": {
   "codemirror_mode": {
    "name": "ipython",
    "version": 2
   },
   "file_extension": ".py",
   "mimetype": "text/x-python",
   "name": "python",
   "nbconvert_exporter": "python",
   "pygments_lexer": "ipython2",
   "version": "2.7.12"
  }
 },
 "nbformat": 4,
 "nbformat_minor": 0
}
