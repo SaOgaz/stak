{
 "cells": [
  {
   "cell_type": "markdown",
   "metadata": {},
   "source": [
    "# tables.fitsio"
   ]
  },
  {
   "cell_type": "markdown",
   "metadata": {},
   "source": [
    "<a id='notes'></a>\n",
    "\n",
    "## Notes"
   ]
  },
  {
   "cell_type": "markdown",
   "metadata": {},
   "source": [
    "Contents:\n",
    "\n",
    "* [catfits](#catfits)"
   ]
  },
  {
   "cell_type": "markdown",
   "metadata": {},
   "source": [
    "<br>"
   ]
  },
  {
   "cell_type": "markdown",
   "metadata": {},
   "source": [
    "<a id='catfits'></a>\n",
    "\n",
    "## catfits"
   ]
  },
  {
   "cell_type": "markdown",
   "metadata": {},
   "source": [
    "** Please review the [Notes](#notes) section above before running any examples in this notebook **"
   ]
  },
  {
   "cell_type": "code",
   "execution_count": 1,
   "metadata": {
    "collapsed": true
   },
   "outputs": [],
   "source": [
    "# Standard Imports\n",
    "import glob\n",
    "\n",
    "# Astronomy Specific Imports\n",
    "from astropy.io import fits"
   ]
  },
  {
   "cell_type": "code",
   "execution_count": 2,
   "metadata": {
    "collapsed": false
   },
   "outputs": [
    {
     "name": "stdout",
     "output_type": "stream",
     "text": [
      "Filename: /eng/ssb/iraf_transition/test_data/iczgs3ygq_flt.fits\n",
      "No.    Name         Type      Cards   Dimensions   Format\n",
      "0    PRIMARY     PrimaryHDU     266   ()              \n",
      "1    SCI         ImageHDU       140   (1014, 1014)   float32   \n",
      "2    ERR         ImageHDU        51   (1014, 1014)   float32   \n",
      "3    DQ          ImageHDU        43   (1014, 1014)   int16   \n",
      "4    SAMP        ImageHDU        37   (1014, 1014)   int16   \n",
      "5    TIME        ImageHDU        37   (1014, 1014)   float32   \n",
      "6    WCSCORR     BinTableHDU     59   7R x 24C     [40A, I, A, 24A, 24A, 24A, 24A, D, D, D, D, D, D, D, D, 24A, 24A, D, D, D, D, J, 40A, 128A]   \n",
      "Filename: /eng/ssb/iraf_transition/test_data/iczgs3ygq_newdtype_flt.fits\n",
      "No.    Name         Type      Cards   Dimensions   Format\n",
      "0    PRIMARY     PrimaryHDU     266   ()              \n",
      "1    SCI         ImageHDU       140   (1014, 1014)   int32   \n",
      "2    ERR         ImageHDU        51   (1014, 1014)   float32   \n",
      "3    DQ          ImageHDU        43   (1014, 1014)   int16   \n",
      "4    SAMP        ImageHDU        37   (1014, 1014)   int16   \n",
      "5    TIME        ImageHDU        37   (1014, 1014)   float32   \n",
      "6    WCSCORR     BinTableHDU     59   7R x 24C     [40A, I, A, 24A, 24A, 24A, 24A, D, D, D, D, D, D, D, D, 24A, 24A, D, D, D, D, J, 40A, 128A]   \n",
      "Filename: /eng/ssb/iraf_transition/test_data/iczgs3y5q_flt.fits\n",
      "No.    Name         Type      Cards   Dimensions   Format\n",
      "0    PRIMARY     PrimaryHDU     265   ()              \n",
      "1    SCI         ImageHDU       140   (1014, 1014)   float32   \n",
      "2    ERR         ImageHDU        51   (1014, 1014)   float32   \n",
      "3    DQ          ImageHDU        43   (1014, 1014)   int16   \n",
      "4    SAMP        ImageHDU        37   (1014, 1014)   int16   \n",
      "5    TIME        ImageHDU        37   (1014, 1014)   float32   \n",
      "6    WCSCORR     BinTableHDU     59   7R x 24C     [40A, I, A, 24A, 24A, 24A, 24A, D, D, D, D, D, D, D, D, 24A, 24A, D, D, D, D, J, 40A, 128A]   \n",
      "Filename: /eng/ssb/iraf_transition/test_data/imarith_out.fits\n",
      "No.    Name         Type      Cards   Dimensions   Format\n",
      "0    PRIMARY     PrimaryHDU     266   ()              \n",
      "1    SCI         ImageHDU       140   (1014, 1014)   float32   \n",
      "2    ERR         ImageHDU        51   (1014, 1014)   float32   \n",
      "3    DQ          ImageHDU        43   (1014, 1014)   int16   \n",
      "4    SAMP        ImageHDU        37   (1014, 1014)   int16   \n",
      "5    TIME        ImageHDU        37   (1014, 1014)   float32   \n",
      "6    WCSCORR     BinTableHDU     59   7R x 24C     [40A, I, A, 24A, 24A, 24A, 24A, D, D, D, D, D, D, D, D, 24A, 24A, D, D, D, D, J, 40A, 128A]   \n",
      "Filename: /eng/ssb/iraf_transition/test_data/imfunction2_out.fits\n",
      "No.    Name         Type      Cards   Dimensions   Format\n",
      "0    PRIMARY     PrimaryHDU     266   ()              \n",
      "1    SCI         ImageHDU       140   (1014, 1014)   float64   \n",
      "2    ERR         ImageHDU        51   (1014, 1014)   float32   \n",
      "3    DQ          ImageHDU        43   (1014, 1014)   int16   \n",
      "4    SAMP        ImageHDU        37   (1014, 1014)   int16   \n",
      "5    TIME        ImageHDU        37   (1014, 1014)   float32   \n",
      "6    WCSCORR     BinTableHDU     59   7R x 24C     [40A, I, A, 24A, 24A, 24A, 24A, D, D, D, D, D, D, D, D, 24A, 24A, D, D, D, D, J, 40A, 128A]   \n",
      "Filename: /eng/ssb/iraf_transition/test_data/jczgx1q1q_flc.fits\n",
      "No.    Name         Type      Cards   Dimensions   Format\n",
      "0    PRIMARY     PrimaryHDU     270   ()              \n",
      "1    SCI         ImageHDU       200   (4096, 2048)   float32   \n",
      "2    ERR         ImageHDU        56   (4096, 2048)   float32   \n",
      "3    DQ          ImageHDU        48   (4096, 2048)   int16   \n",
      "4    SCI         ImageHDU       198   (4096, 2048)   float32   \n",
      "5    ERR         ImageHDU        56   (4096, 2048)   float32   \n",
      "6    DQ          ImageHDU        48   (4096, 2048)   int16   \n",
      "7    D2IMARR     ImageHDU        15   (64, 32)     float32   \n",
      "8    D2IMARR     ImageHDU        15   (64, 32)     float32   \n",
      "9    D2IMARR     ImageHDU        15   (64, 32)     float32   \n",
      "10   D2IMARR     ImageHDU        15   (64, 32)     float32   \n",
      "11   WCSDVARR    ImageHDU        15   (64, 32)     float32   \n",
      "12   WCSDVARR    ImageHDU        15   (64, 32)     float32   \n",
      "13   WCSDVARR    ImageHDU        15   (64, 32)     float32   \n",
      "14   WCSDVARR    ImageHDU        15   (64, 32)     float32   \n",
      "15   WCSCORR     BinTableHDU     59   14R x 24C    [40A, I, A, 24A, 24A, 24A, 24A, D, D, D, D, D, D, D, D, 24A, 24A, D, D, D, D, J, 40A, 128A]   \n",
      "Filename: /eng/ssb/iraf_transition/test_data/jczgx1ppq_flc.fits\n",
      "No.    Name         Type      Cards   Dimensions   Format\n",
      "0    PRIMARY     PrimaryHDU     270   ()              \n",
      "1    SCI         ImageHDU       200   (4096, 2048)   float32   \n",
      "2    ERR         ImageHDU        56   (4096, 2048)   float32   \n",
      "3    DQ          ImageHDU        48   (4096, 2048)   int16   \n",
      "4    SCI         ImageHDU       198   (4096, 2048)   float32   \n",
      "5    ERR         ImageHDU        56   (4096, 2048)   float32   \n",
      "6    DQ          ImageHDU        48   (4096, 2048)   int16   \n",
      "7    D2IMARR     ImageHDU        15   (64, 32)     float32   \n",
      "8    D2IMARR     ImageHDU        15   (64, 32)     float32   \n",
      "9    D2IMARR     ImageHDU        15   (64, 32)     float32   \n",
      "10   D2IMARR     ImageHDU        15   (64, 32)     float32   \n",
      "11   WCSDVARR    ImageHDU        15   (64, 32)     float32   \n",
      "12   WCSDVARR    ImageHDU        15   (64, 32)     float32   \n",
      "13   WCSDVARR    ImageHDU        15   (64, 32)     float32   \n",
      "14   WCSDVARR    ImageHDU        15   (64, 32)     float32   \n",
      "15   WCSCORR     BinTableHDU     59   14R x 24C    [40A, I, A, 24A, 24A, 24A, 24A, D, D, D, D, D, D, D, D, 24A, 24A, D, D, D, D, J, 40A, 128A]   \n",
      "Filename: /eng/ssb/iraf_transition/test_data/imcopy_out.fits\n",
      "No.    Name         Type      Cards   Dimensions   Format\n",
      "0    PRIMARY     PrimaryHDU     266   ()              \n",
      "1    SCI         ImageHDU       140   (1014, 1014)   float32   \n",
      "2    ERR         ImageHDU        51   (1014, 1014)   float32   \n",
      "3    DQ          ImageHDU        43   (1014, 1014)   int16   \n",
      "4    SAMP        ImageHDU        37   (1014, 1014)   int16   \n",
      "5    TIME        ImageHDU        37   (1014, 1014)   float32   \n",
      "6    WCSCORR     BinTableHDU     59   7R x 24C     [40A, I, A, 24A, 24A, 24A, 24A, D, D, D, D, D, D, D, D, 24A, 24A, D, D, D, D, J, 40A, 128A]   \n",
      "Filename: /eng/ssb/iraf_transition/test_data/imfunction_out.fits\n",
      "No.    Name         Type      Cards   Dimensions   Format\n",
      "0    PRIMARY     PrimaryHDU     266   ()              \n",
      "1    SCI         ImageHDU       140   (1014, 1014)   float32   \n",
      "2    ERR         ImageHDU        51   (1014, 1014)   float32   \n",
      "3    DQ          ImageHDU        43   (1014, 1014)   int16   \n",
      "4    SAMP        ImageHDU        37   (1014, 1014)   int16   \n",
      "5    TIME        ImageHDU        37   (1014, 1014)   float32   \n",
      "6    WCSCORR     BinTableHDU     59   7R x 24C     [40A, I, A, 24A, 24A, 24A, 24A, D, D, D, D, D, D, D, D, 24A, 24A, D, D, D, D, J, 40A, 128A]   \n"
     ]
    }
   ],
   "source": [
    "# Change these values to your desired data files, glob will capture all wildcard matches\n",
    "test_data = glob.glob('/eng/ssb/iraf_transition/test_data/*.fits')\n",
    "\n",
    "for filename in test_data:\n",
    "    fits.info(filename)"
   ]
  },
  {
   "cell_type": "markdown",
   "metadata": {},
   "source": [
    "<br>"
   ]
  },
  {
   "cell_type": "markdown",
   "metadata": {},
   "source": [
    "## stwfits"
   ]
  },
  {
   "cell_type": "markdown",
   "metadata": {},
   "source": [
    "stwfits is used to translate a GEIS, STSDAS tables, or ascii file to an standard FITS format.  Here we will cover how to convert a GEIS file to a FITS files using the ``stsci.tools.readgeis`` function.  There are two wasy to use this function, through the command line, or through a Python session or script.  For instructions on running this task on the command line see the ``stsci.tools`` [Conversion Utilities documentation](http://ssb.stsci.edu/doc/stsci_python_dev/stsci.tools.doc/html/convert.html).  Below we show an example of running this task in a python session."
   ]
  },
  {
   "cell_type": "code",
   "execution_count": 3,
   "metadata": {
    "collapsed": false
   },
   "outputs": [],
   "source": [
    "from stsci.tools import readgeis"
   ]
  },
  {
   "cell_type": "code",
   "execution_count": 5,
   "metadata": {
    "collapsed": false
   },
   "outputs": [
    {
     "name": "stderr",
     "output_type": "stream",
     "text": [
      "/Users/ogaz/miniconda2/envs/irafdev/lib/python2.7/site-packages/stsci.tools-3.4.2-py2.7.egg/stsci/tools/readgeis.py:250: RuntimeWarning: invalid value encountered in isnan\n",
      "  (numpy.any(numpy.isnan(ext_dat)) or numpy.any(numpy.isinf(ext_dat))):\n"
     ]
    },
    {
     "ename": "ValueError",
     "evalue": "FITS header values must contain standard printable ASCII characters; u'        \\x00                                       ' contains characters not representable in ASCII or non-printable characters.",
     "output_type": "error",
     "traceback": [
      "\u001b[0;31m---------------------------------------------------------------------------\u001b[0m",
      "\u001b[0;31mValueError\u001b[0m                                Traceback (most recent call last)",
      "\u001b[0;32m<ipython-input-5-de6dbb7a7e5e>\u001b[0m in \u001b[0;36m<module>\u001b[0;34m()\u001b[0m\n\u001b[1;32m      1\u001b[0m \u001b[0mfilename\u001b[0m \u001b[0;34m=\u001b[0m \u001b[0;34m'/eng/ssb/iraf_transition/test_data/t721836lu.r3h'\u001b[0m\u001b[0;34m\u001b[0m\u001b[0m\n\u001b[0;32m----> 2\u001b[0;31m \u001b[0mhdulist\u001b[0m \u001b[0;34m=\u001b[0m \u001b[0mreadgeis\u001b[0m\u001b[0;34m.\u001b[0m\u001b[0mreadgeis\u001b[0m\u001b[0;34m(\u001b[0m\u001b[0mfilename\u001b[0m\u001b[0;34m)\u001b[0m\u001b[0;34m\u001b[0m\u001b[0m\n\u001b[0m\u001b[1;32m      3\u001b[0m \u001b[0mhdulist\u001b[0m\u001b[0;34m.\u001b[0m\u001b[0mwriteto\u001b[0m\u001b[0;34m(\u001b[0m\u001b[0mfilename\u001b[0m\u001b[0;34m.\u001b[0m\u001b[0mreplace\u001b[0m\u001b[0;34m(\u001b[0m\u001b[0;34m'.r3h'\u001b[0m\u001b[0;34m,\u001b[0m\u001b[0;34m'.fits'\u001b[0m\u001b[0;34m)\u001b[0m\u001b[0;34m)\u001b[0m\u001b[0;34m\u001b[0m\u001b[0m\n",
      "\u001b[0;32m/Users/ogaz/miniconda2/envs/irafdev/lib/python2.7/site-packages/stsci.tools-3.4.2-py2.7.egg/stsci/tools/readgeis.pyc\u001b[0m in \u001b[0;36mreadgeis\u001b[0;34m(input)\u001b[0m\n\u001b[1;32m    293\u001b[0m                 \u001b[0m_card\u001b[0m \u001b[0;34m=\u001b[0m \u001b[0mfits\u001b[0m\u001b[0;34m.\u001b[0m\u001b[0mCard\u001b[0m\u001b[0;34m.\u001b[0m\u001b[0mfromstring\u001b[0m\u001b[0;34m(\u001b[0m\u001b[0m_str\u001b[0m\u001b[0;34m)\u001b[0m\u001b[0;34m\u001b[0m\u001b[0m\n\u001b[1;32m    294\u001b[0m             \u001b[0;32melse\u001b[0m\u001b[0;34m:\u001b[0m\u001b[0;34m\u001b[0m\u001b[0m\n\u001b[0;32m--> 295\u001b[0;31m                 \u001b[0m_card\u001b[0m \u001b[0;34m=\u001b[0m \u001b[0mfits\u001b[0m\u001b[0;34m.\u001b[0m\u001b[0mCard\u001b[0m\u001b[0;34m(\u001b[0m\u001b[0mkeyword\u001b[0m\u001b[0;34m=\u001b[0m\u001b[0mkey\u001b[0m\u001b[0;34m[\u001b[0m\u001b[0mi\u001b[0m\u001b[0;34m-\u001b[0m\u001b[0;36m1\u001b[0m\u001b[0;34m]\u001b[0m\u001b[0;34m,\u001b[0m \u001b[0mvalue\u001b[0m\u001b[0;34m=\u001b[0m\u001b[0mval\u001b[0m\u001b[0;34m,\u001b[0m \u001b[0mcomment\u001b[0m\u001b[0;34m=\u001b[0m\u001b[0mcomm\u001b[0m\u001b[0;34m[\u001b[0m\u001b[0mi\u001b[0m\u001b[0;34m-\u001b[0m\u001b[0;36m1\u001b[0m\u001b[0;34m]\u001b[0m\u001b[0;34m)\u001b[0m\u001b[0;34m\u001b[0m\u001b[0m\n\u001b[0m\u001b[1;32m    296\u001b[0m \u001b[0;34m\u001b[0m\u001b[0m\n\u001b[1;32m    297\u001b[0m             \u001b[0mext_hdu\u001b[0m\u001b[0;34m.\u001b[0m\u001b[0mheader\u001b[0m\u001b[0;34m.\u001b[0m\u001b[0mappend\u001b[0m\u001b[0;34m(\u001b[0m\u001b[0m_card\u001b[0m\u001b[0;34m)\u001b[0m\u001b[0;34m\u001b[0m\u001b[0m\n",
      "\u001b[0;32m/Users/ogaz/miniconda2/envs/irafdev/lib/python2.7/site-packages/astropy/io/fits/card.pyc\u001b[0m in \u001b[0;36m__init__\u001b[0;34m(self, keyword, value, comment, **kwargs)\u001b[0m\n\u001b[1;32m    446\u001b[0m                 \u001b[0mself\u001b[0m\u001b[0;34m.\u001b[0m\u001b[0mkeyword\u001b[0m \u001b[0;34m=\u001b[0m \u001b[0mkeyword\u001b[0m\u001b[0;34m\u001b[0m\u001b[0m\n\u001b[1;32m    447\u001b[0m             \u001b[0;32mif\u001b[0m \u001b[0mvalue\u001b[0m \u001b[0;32mis\u001b[0m \u001b[0;32mnot\u001b[0m \u001b[0mNone\u001b[0m\u001b[0;34m:\u001b[0m\u001b[0;34m\u001b[0m\u001b[0m\n\u001b[0;32m--> 448\u001b[0;31m                 \u001b[0mself\u001b[0m\u001b[0;34m.\u001b[0m\u001b[0mvalue\u001b[0m \u001b[0;34m=\u001b[0m \u001b[0mvalue\u001b[0m\u001b[0;34m\u001b[0m\u001b[0m\n\u001b[0m\u001b[1;32m    449\u001b[0m \u001b[0;34m\u001b[0m\u001b[0m\n\u001b[1;32m    450\u001b[0m         \u001b[0;32mif\u001b[0m \u001b[0mcomment\u001b[0m \u001b[0;32mis\u001b[0m \u001b[0;32mnot\u001b[0m \u001b[0mNone\u001b[0m\u001b[0;34m:\u001b[0m\u001b[0;34m\u001b[0m\u001b[0m\n",
      "\u001b[0;32m/Users/ogaz/miniconda2/envs/irafdev/lib/python2.7/site-packages/astropy/io/fits/card.pyc\u001b[0m in \u001b[0;36mvalue\u001b[0;34m(self, value)\u001b[0m\n\u001b[1;32m    580\u001b[0m                     \u001b[0;34m'FITS header values must contain standard printable ASCII '\u001b[0m\u001b[0;34m\u001b[0m\u001b[0m\n\u001b[1;32m    581\u001b[0m                     \u001b[0;34m'characters; %r contains characters not representable in '\u001b[0m\u001b[0;34m\u001b[0m\u001b[0m\n\u001b[0;32m--> 582\u001b[0;31m                     'ASCII or non-printable characters.' % value)\n\u001b[0m\u001b[1;32m    583\u001b[0m         \u001b[0;32melif\u001b[0m \u001b[0misinstance\u001b[0m\u001b[0;34m(\u001b[0m\u001b[0mvalue\u001b[0m\u001b[0;34m,\u001b[0m \u001b[0mbinary_type\u001b[0m\u001b[0;34m)\u001b[0m\u001b[0;34m:\u001b[0m\u001b[0;34m\u001b[0m\u001b[0m\n\u001b[1;32m    584\u001b[0m             \u001b[0;31m# Allow str, but only if they can be decoded to ASCII text; note\u001b[0m\u001b[0;34m\u001b[0m\u001b[0;34m\u001b[0m\u001b[0m\n",
      "\u001b[0;31mValueError\u001b[0m: FITS header values must contain standard printable ASCII characters; u'        \\x00                                       ' contains characters not representable in ASCII or non-printable characters."
     ]
    }
   ],
   "source": [
    "filename = '/eng/ssb/iraf_transition/test_data/t721836lu.r3h'\n",
    "hdulist = readgeis.readgeis(filename)\n",
    "hdulist.writeto(filename.replace('.r3h','.fits'))"
   ]
  },
  {
   "cell_type": "markdown",
   "metadata": {},
   "source": [
    "<br>"
   ]
  },
  {
   "cell_type": "markdown",
   "metadata": {},
   "source": [
    "## Not Replacing"
   ]
  },
  {
   "cell_type": "markdown",
   "metadata": {},
   "source": [
    "* fits_example - purpose was to provide more documentation for stwfits and strfits\n",
    "* fitscopy - producing a copy of a fits file is straightforward in Python and the command line using exsisting libraries\n",
    "* geis - purpose was to provide a description of GEIS file format\n",
    "* gftoxdim - GEIS conversion\n",
    "* strfits - converts FITS files to GEIS, STSDAS tables, or text\n",
    "* xdimtogf - convert single group GEIS to multigroup GEIS"
   ]
  },
  {
   "cell_type": "code",
   "execution_count": null,
   "metadata": {
    "collapsed": true
   },
   "outputs": [],
   "source": []
  }
 ],
 "metadata": {
  "kernelspec": {
   "display_name": "Python 2",
   "language": "python",
   "name": "python2"
  },
  "language_info": {
   "codemirror_mode": {
    "name": "ipython",
    "version": 2
   },
   "file_extension": ".py",
   "mimetype": "text/x-python",
   "name": "python",
   "nbconvert_exporter": "python",
   "pygments_lexer": "ipython2",
   "version": "2.7.12"
  }
 },
 "nbformat": 4,
 "nbformat_minor": 0
}
