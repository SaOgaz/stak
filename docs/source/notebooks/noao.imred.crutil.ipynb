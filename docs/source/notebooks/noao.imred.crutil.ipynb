{
 "cells": [
  {
   "cell_type": "markdown",
   "metadata": {},
   "source": [
    "# noao.imred.crutil"
   ]
  },
  {
   "cell_type": "markdown",
   "metadata": {},
   "source": [
    "<a id='notes'></a>\n",
    "\n",
    "## Notes"
   ]
  },
  {
   "cell_type": "markdown",
   "metadata": {},
   "source": [
    "Contents:\n",
    "\n",
    "* [crgrow](#crgrow)\n",
    "* [crmedian](#crmedian)"
   ]
  },
  {
   "cell_type": "markdown",
   "metadata": {},
   "source": [
    "<br>"
   ]
  },
  {
   "cell_type": "markdown",
   "metadata": {},
   "source": [
    "cosmicrays\n",
    "craverage"
   ]
  },
  {
   "cell_type": "markdown",
   "metadata": {},
   "source": [
    "<a id='crfix'></a>\n",
    "\n",
    "## crfix"
   ]
  },
  {
   "cell_type": "markdown",
   "metadata": {},
   "source": [
    "So, we have a \"sort of\" replacement, the IRAF task interpolates as follows:\n",
    "cosmic ray pixels are \"fixed\" by replacing them with values by linear interpolation to the nearest pixels not identified as bad.  The interpolation direction is the shortest length between good pixels along columns or lines.\n",
    "\n",
    "I can't seem to find an astropy replacement, but there is of course ways to do this in scipy, here's a quick stack-overflow example: http://stackoverflow.com/questions/37662180/interpolate-missing-values-2d-python.  This gives you a lot of interpolation options, but edge NaNs take some hand-holding.\n",
    "\n",
    "Quetion remains, do people need a wrapper/one liner function for this?  Might be part of a bigger crutil function\n"
   ]
  },
  {
   "cell_type": "markdown",
   "metadata": {},
   "source": [
    "<br>"
   ]
  },
  {
   "cell_type": "markdown",
   "metadata": {},
   "source": [
    "<a id='crgrow'></a>\n",
    "\n",
    "## crgrow"
   ]
  },
  {
   "cell_type": "markdown",
   "metadata": {},
   "source": [
    "**Please review the [Notes](#notes) section above before running any examples in this notebook**\n",
    "\n",
    "The crgrow replacement uses the ``skimage.morphology`` package to grow the values in any numpy array.  The dilation task is a wrapper around ``scipy.ndimage.grey_dilation``.  You can insert any kernal type where ``disk`` is called in this example."
   ]
  },
  {
   "cell_type": "code",
   "execution_count": null,
   "metadata": {
    "collapsed": true
   },
   "outputs": [],
   "source": [
    "# Standard Imports\n",
    "from skimage.morphology import disk,dilation\n",
    "\n",
    "# Astronomy Specific Imports\n",
    "from astropy.io import fits"
   ]
  },
  {
   "cell_type": "code",
   "execution_count": 4,
   "metadata": {
    "collapsed": false
   },
   "outputs": [],
   "source": [
    "# Change this value to your desired data file\n",
    "test_data = '/eng/ssb/iraf_transition/test_data/id0k16pdq_blv_tmp.fits'\n",
    "\n",
    "# Read in your fits file, when using a fits file, the bytesway call is required to\n",
    "# make sure your arry data type is correct.\n",
    "hdu = fits.open(test_data,mode='update')\n",
    "dq1 = hdu[3].data.byteswap().newbyteorder('=')\n",
    "\n",
    "# Dilation used to grow the CR flags\n",
    "grownDQ = dilation(dq1, disk(2))\n",
    "\n",
    "# Re-assign the changed array to our original fits file and close the file to save.\n",
    "hdu[3].data = grownDQ\n",
    "hdu.close()"
   ]
  },
  {
   "cell_type": "markdown",
   "metadata": {},
   "source": [
    "<br>"
   ]
  },
  {
   "cell_type": "markdown",
   "metadata": {},
   "source": [
    "## crmedian"
   ]
  },
  {
   "cell_type": "markdown",
   "metadata": {},
   "source": [
    "**Please review the [Notes](#notes) section above before running any examples in this notebook**\n",
    "\n",
    "The crmedian task is a way to indentify and replace cosmic rays in a single image by detecting pixels that deviate a statistically significant amount from the median by comparing to a median filtered version of the image.  The indentfied cosmic rays can then be replaced by the median filtered value.  A similar algorithim has been used in [ccdproc.cosmicray_median](http://ccdproc.readthedocs.io/en/latest/api/ccdproc.cosmicray_median.html#ccdproc.cosmicray_median).  In ``ccdproc.cosmicray_median`` you also have the option of using an error array.  If none is provided the standard deviation of the data is used."
   ]
  },
  {
   "cell_type": "code",
   "execution_count": 1,
   "metadata": {
    "collapsed": false
   },
   "outputs": [],
   "source": [
    "# Astronomy Specific Imports\n",
    "from astropy.io import fits\n",
    "from astropy import units\n",
    "from ccdproc import cosmicray_median, fits_ccddata_reader"
   ]
  },
  {
   "cell_type": "code",
   "execution_count": 15,
   "metadata": {
    "collapsed": false
   },
   "outputs": [
    {
     "name": "stdout",
     "output_type": "stream",
     "text": [
      "INFO: using the unit electron / s passed to the FITS reader instead of the unit ELECTRONS/S in the FITS file. [ccdproc.ccddata]\n"
     ]
    }
   ],
   "source": [
    "# Change these values to your desired data files\n",
    "test_data = '/eng/ssb/iraf_transition/test_data/iczgs3ygq_flt.fits'\n",
    "\n",
    "# First we need to pull out the science arrays to create CCDData objects\n",
    "# Our acutal unit is electrons/sec, this is not accepted by the current\n",
    "# set of units\n",
    "image_data = fits_ccddata_reader(test_data, hdu=1, unit=units.electron/units.s, hdu_uncertainty=2)\n",
    "error_data = image_data.uncertainty.array\n",
    "\n",
    "# Now we run cosmicray_median, since we input a CCDData type, a CCDData type is returned\n",
    "# If a numpy.ndarray if the input data type, it will return a numpy.ndarray\n",
    "newdata = cosmicray_median(image_data, error_image=error_data, thresh=5, mbox=11, rbox=11, gbox=3)"
   ]
  },
  {
   "cell_type": "markdown",
   "metadata": {},
   "source": [
    "<br>"
   ]
  },
  {
   "cell_type": "markdown",
   "metadata": {},
   "source": [
    "## crnebula"
   ]
  },
  {
   "cell_type": "markdown",
   "metadata": {},
   "source": [
    "## Not Replacing"
   ]
  },
  {
   "cell_type": "markdown",
   "metadata": {},
   "source": [
    "* crcombine - see ctio.immatch.imcombine\n",
    "* credit - error when I call this from window"
   ]
  },
  {
   "cell_type": "code",
   "execution_count": null,
   "metadata": {
    "collapsed": true
   },
   "outputs": [],
   "source": []
  }
 ],
 "metadata": {
  "kernelspec": {
   "display_name": "Python 2",
   "language": "python",
   "name": "python2"
  },
  "language_info": {
   "codemirror_mode": {
    "name": "ipython",
    "version": 2
   },
   "file_extension": ".py",
   "mimetype": "text/x-python",
   "name": "python",
   "nbconvert_exporter": "python",
   "pygments_lexer": "ipython2",
   "version": "2.7.12"
  }
 },
 "nbformat": 4,
 "nbformat_minor": 0
}
