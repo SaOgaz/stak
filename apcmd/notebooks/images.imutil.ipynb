{
 "cells": [
  {
   "cell_type": "markdown",
   "metadata": {},
   "source": [
    "## General Imports\n",
    "These imports will be used for a majority of the tasks listed below.  More specific imports can be found in the task section."
   ]
  },
  {
   "cell_type": "code",
   "execution_count": 2,
   "metadata": {
    "collapsed": false
   },
   "outputs": [],
   "source": [
    "from astropy.io import fits\n",
    "import numpy as np"
   ]
  },
  {
   "cell_type": "markdown",
   "metadata": {},
   "source": [
    "### _imaxis ???"
   ]
  },
  {
   "cell_type": "markdown",
   "metadata": {},
   "source": [
    "### chpixtype"
   ]
  },
  {
   "cell_type": "markdown",
   "metadata": {},
   "source": [
    "**There's a bug related to the bzero/bunit keyword not being set that I think already has a fix in the dev version.  We'll have to get back to this task when these changes go into the release version:\n",
    "https://github.com/astropy/astropy/pull/5053/files **"
   ]
  },
  {
   "cell_type": "markdown",
   "metadata": {},
   "source": [
    "Old type options in chpixtype were: \n",
    "``ushort``, ``short``, ``int``, ``long``, ``real``, ``double``, ``complex``\n",
    "\n",
    "Options available with astropy are \n",
    "* 'uint8': 8, \n",
    "* 'int16': 16, \n",
    "* 'uint16': 16, \n",
    "* 'int32': 32,\n",
    "* 'uint32': 32, \n",
    "* 'int64': 64, \n",
    "* 'uint64': 64, \n",
    "* 'float32': -32,\n",
    "* 'float64': -64\n",
    "\n",
    "Conversions:\n",
    "* ``ushort`` : ``uint16``\n",
    "* ``short`` : ``int16``\n",
    "* ``int`` : ``int32``\n",
    "* ``long`` : ``int62``\n",
    "* ``real`` : ``float32``\n",
    "* ``double`` : ``float64``\n",
    "* ``complex`` : ``complex64`` or ``complex128``\n",
    "\n",
    "any of the int sizes in ``astropy/numpy`` can be changed to an unsigned integer"
   ]
  },
  {
   "cell_type": "code",
   "execution_count": 21,
   "metadata": {
    "collapsed": false
   },
   "outputs": [],
   "source": [
    "# Change this value to your desired data file, here were making creating a filename\n",
    "# for our new changed data\n",
    "orig_data = '/eng/ssb/iraf_transition/test_data/iczgs3ygq_flt.fits'\n",
    "new_data = '/eng/ssb/iraf_transition/test_data/iczgs3ygq_newdtype_flt.fits'\n",
    "\n",
    "# Read in your fits file and make copy, close original file\n",
    "hdu = fits.open(orig_data)\n",
    "hdu.close()\n",
    "\n",
    "# Take copy and edit datatype\n",
    "#hdu[1].scale(type='int16')\n",
    "\n",
    "# Save changed hdu\n",
    "hdu.writeto(new_data)"
   ]
  },
  {
   "cell_type": "markdown",
   "metadata": {},
   "source": [
    "### hedit"
   ]
  },
  {
   "cell_type": "code",
   "execution_count": 27,
   "metadata": {
    "collapsed": false
   },
   "outputs": [],
   "source": [
    "# Change this value to your desired data file\n",
    "test_data = '/eng/ssb/iraf_transition/test_data/iczgs3ygq_flt.fits'\n",
    "\n",
    "# Open fits file\n",
    "hdu = fits.open(test_data, mode='update')\n",
    "\n",
    "# Simple header change, will add keyword if it doesn't not exist\n",
    "hdu[0].header['MYKEY1'] = 'Editing this keyword'\n",
    "\n",
    "# Only add keyword if it does not already exist:\n",
    "if 'MYKEY2' not in hdu[0].header:\n",
    "    hdu[0].header['MYKEY2'] = 'Also editing this'\n",
    "\n",
    "# To delete keywords, first check if they exist:\n",
    "if 'MYKEY2' in hdu[0].header:\n",
    "    del hdu[0].header['MYKEY2']\n",
    "    \n",
    "# Close fits file, this will save your changes\n",
    "hdu.close()"
   ]
  },
  {
   "cell_type": "markdown",
   "metadata": {},
   "source": [
    "### hselect"
   ]
  },
  {
   "cell_type": "code",
   "execution_count": 29,
   "metadata": {
    "collapsed": false
   },
   "outputs": [
    {
     "data": {
      "text/plain": [
       "'In progress...'"
      ]
     },
     "execution_count": 29,
     "metadata": {},
     "output_type": "execute_result"
    }
   ],
   "source": [
    "\"In progress...\""
   ]
  },
  {
   "cell_type": "markdown",
   "metadata": {},
   "source": [
    "### imarith"
   ]
  },
  {
   "cell_type": "markdown",
   "metadata": {},
   "source": [
    "Imarith is easy to replace with basic astropy.io functionality"
   ]
  },
  {
   "cell_type": "code",
   "execution_count": 62,
   "metadata": {
    "collapsed": false
   },
   "outputs": [],
   "source": [
    "#Basic operands (+,-,/,*)\n",
    "# Change these values to your desired data files\n",
    "test_data1 = '/eng/ssb/iraf_transition/test_data/iczgs3ygq_flt.fits'\n",
    "test_data2 = '/eng/ssb/iraf_transition/test_data/iczgs3y5q_flt.fits'\n",
    "output_data = '/eng/ssb/iraf_transition/test_data/imarith_out.fits'\n",
    "\n",
    "# Open fits file\n",
    "hdu1 = fits.open(test_data1)\n",
    "hdu2 = fits.open(test_data2)\n",
    "\n",
    "# Do the math\n",
    "hdu1[1].data += hdu2[1].data\n",
    "\n",
    "# If you are dividing and need to avoid zeros in the image use indexing\n",
    "indx_zeros = [hdu2[4].data == 0]\n",
    "indx_nonzeros = [hdu2[4].data != 0]\n",
    "# Set this value as you would the divzero parameter in imarith\n",
    "set_zeros = 999.9\n",
    "hdu1[4].data[indx_nonzeros] /= hdu2[4].data[indx_nonzeros]\n",
    "hdu1[4].data[indx_zeros] = 999.9\n",
    "\n",
    "# Save your new file\n",
    "hdu1.writeto(output_data, clobber=True)\n",
    "\n",
    "# Close hdu files\n",
    "hdu1.close()\n",
    "hdu2.close()"
   ]
  },
  {
   "cell_type": "markdown",
   "metadata": {},
   "source": [
    "### imcopy"
   ]
  },
  {
   "cell_type": "code",
   "execution_count": 63,
   "metadata": {
    "collapsed": true
   },
   "outputs": [],
   "source": [
    "# Change these values to your desired data files\n",
    "test_data = '/eng/ssb/iraf_transition/test_data/iczgs3ygq_flt.fits'\n",
    "output_data = '/eng/ssb/iraf_transition/test_data/imcopy_out.fits'\n",
    "\n",
    "hdu = fits.open(test_data)\n",
    "hdu.writeto(output_data)\n",
    "hdu.close()"
   ]
  },
  {
   "cell_type": "markdown",
   "metadata": {},
   "source": [
    "### imdelete - yeah.. no..."
   ]
  },
  {
   "cell_type": "markdown",
   "metadata": {},
   "source": [
    "### imdivide"
   ]
  },
  {
   "cell_type": "markdown",
   "metadata": {},
   "source": [
    "please see images.imutil.imarith"
   ]
  },
  {
   "cell_type": "markdown",
   "metadata": {},
   "source": [
    "### imexpr"
   ]
  },
  {
   "cell_type": "markdown",
   "metadata": {},
   "source": [
    "**Are people using this? Which parts?  There's a lot here that can be done already in astropy/numpy, but hard to tell what people are actually using.**"
   ]
  },
  {
   "cell_type": "markdown",
   "metadata": {},
   "source": [
    "### imfunction"
   ]
  },
  {
   "cell_type": "markdown",
   "metadata": {},
   "source": [
    "Here we use ``np.vectorize``, which can make any python function apply to each element of your array.  But keep in mind that ``np.vectorize`` is esentially looping over the array, and may not be the most efficient method."
   ]
  },
  {
   "cell_type": "code",
   "execution_count": 77,
   "metadata": {
    "collapsed": true
   },
   "outputs": [],
   "source": [
    "import math"
   ]
  },
  {
   "cell_type": "code",
   "execution_count": 76,
   "metadata": {
    "collapsed": false
   },
   "outputs": [],
   "source": [
    "# Change these values to your desired data files\n",
    "test_data = '/eng/ssb/iraf_transition/test_data/iczgs3ygq_flt.fits'\n",
    "output_data = '/eng/ssb/iraf_transition/test_data/imfunction_out.fits'\n",
    "\n",
    "# Here we use the cosine function as an example\n",
    "hdu = fits.open(test_data)\n",
    "sci = hdu[1].data\n",
    "vcos = np.vectorize(math.cos)\n",
    "\n",
    "# When you call your new function, make sure to reassign the array to\n",
    "# the new values if the original function is not changing values in place\n",
    "hdu[1].data = vcos(hdu[1].data)\n",
    "\n",
    "# Now save out to a new file, and close the original file, changes will\n",
    "# not be applied to the oiginal fits file.\n",
    "hdu.writeto(output_data)\n",
    "hdu.close()"
   ]
  },
  {
   "cell_type": "markdown",
   "metadata": {},
   "source": [
    "### imgets"
   ]
  },
  {
   "cell_type": "markdown",
   "metadata": {},
   "source": [
    "**I don't think we need to include this... there's a note in the help file that says it was mostly used internaly within CL's other tasks**\n",
    "\n",
    "**We can just put a note here that says, see imheader**"
   ]
  },
  {
   "cell_type": "code",
   "execution_count": 81,
   "metadata": {
    "collapsed": false
   },
   "outputs": [],
   "source": [
    "# Change these values to your desired data files\n",
    "test_data = '/eng/ssb/iraf_transition/test_data/iczgs3ygq_flt.fits'\n",
    "\n",
    "# Convenience functions like 'getval' can be used to easily grab parts\n",
    "# of a fits file\n",
    "my_value = fits.getval(test_data,'CRPIX1',ext=1)\n",
    "\n",
    "# If your value in not a string, but you would like one\n",
    "my_value = str(my_value)"
   ]
  },
  {
   "cell_type": "markdown",
   "metadata": {},
   "source": [
    "### imheader"
   ]
  },
  {
   "cell_type": "markdown",
   "metadata": {},
   "source": [
    "Here we can use another ``astropy`` convenience function"
   ]
  },
  {
   "cell_type": "code",
   "execution_count": 84,
   "metadata": {
    "collapsed": true
   },
   "outputs": [],
   "source": [
    "import glob"
   ]
  },
  {
   "cell_type": "code",
   "execution_count": 87,
   "metadata": {
    "collapsed": false
   },
   "outputs": [
    {
     "name": "stdout",
     "output_type": "stream",
     "text": [
      "Filename: /eng/ssb/iraf_transition/test_data/iczgs3ygq_flt.fits\n",
      "No.    Name         Type      Cards   Dimensions   Format\n",
      "0    PRIMARY     PrimaryHDU     266   ()              \n",
      "1    SCI         ImageHDU       140   (1014, 1014)   float32   \n",
      "2    ERR         ImageHDU        51   (1014, 1014)   float32   \n",
      "3    DQ          ImageHDU        43   (1014, 1014)   int16   \n",
      "4    SAMP        ImageHDU        37   (1014, 1014)   int16   \n",
      "5    TIME        ImageHDU        37   (1014, 1014)   float32   \n",
      "6    WCSCORR     BinTableHDU     59   7R x 24C     [40A, I, A, 24A, 24A, 24A, 24A, D, D, D, D, D, D, D, D, 24A, 24A, D, D, D, D, J, 40A, 128A]   \n",
      "Filename: /eng/ssb/iraf_transition/test_data/iczgs3ygq_newdtype_flt.fits\n",
      "No.    Name         Type      Cards   Dimensions   Format\n",
      "0    PRIMARY     PrimaryHDU       4   ()              \n",
      "1    SCI         ImageHDU       140   (1014, 1014)   float32   \n",
      "Filename: /eng/ssb/iraf_transition/test_data/iczgs3y5q_flt.fits\n",
      "No.    Name         Type      Cards   Dimensions   Format\n",
      "0    PRIMARY     PrimaryHDU     265   ()              \n",
      "1    SCI         ImageHDU       140   (1014, 1014)   float32   \n",
      "2    ERR         ImageHDU        51   (1014, 1014)   float32   \n",
      "3    DQ          ImageHDU        43   (1014, 1014)   int16   \n",
      "4    SAMP        ImageHDU        37   (1014, 1014)   int16   \n",
      "5    TIME        ImageHDU        37   (1014, 1014)   float32   \n",
      "6    WCSCORR     BinTableHDU     59   7R x 24C     [40A, I, A, 24A, 24A, 24A, 24A, D, D, D, D, D, D, D, D, 24A, 24A, D, D, D, D, J, 40A, 128A]   \n"
     ]
    }
   ],
   "source": [
    "# Change these values to your desired data files, glob will capture all wildcard matches\n",
    "test_data = glob.glob('/eng/ssb/iraf_transition/test_data/iczgs3y*')\n",
    "\n",
    "for filename in test_data:\n",
    "    fits.info(filename)"
   ]
  },
  {
   "cell_type": "markdown",
   "metadata": {},
   "source": [
    "### imhistogram"
   ]
  },
  {
   "cell_type": "markdown",
   "metadata": {},
   "source": [
    "To make a histogram we are going to use matplotlibs ``hist`` function.  See the ``hist`` documentation for options to change the histogram type, scaling, bin sizes, and more."
   ]
  },
  {
   "cell_type": "code",
   "execution_count": 90,
   "metadata": {
    "collapsed": true
   },
   "outputs": [],
   "source": [
    "import matplotlib.pyplot as plt\n",
    "\n",
    "# Let's also make our plots show up in this notebook window\n",
    "%matplotlib inline  "
   ]
  },
  {
   "cell_type": "code",
   "execution_count": 96,
   "metadata": {
    "collapsed": false
   },
   "outputs": [
    {
     "data": {
      "text/plain": [
       "(array([  1.44100000e+03,   1.80000000e+01,   1.30000000e+01,\n",
       "          1.20000000e+01,   1.60000000e+01,   1.00000000e+01,\n",
       "          1.00000000e+01,   8.00000000e+00,   1.40000000e+01,\n",
       "          1.70000000e+01,   1.70000000e+01,   2.40000000e+01,\n",
       "          2.80000000e+01,   1.20000000e+01,   1.60000000e+01,\n",
       "          2.70000000e+01,   2.40000000e+01,   2.50000000e+01,\n",
       "          3.10000000e+01,   3.60000000e+01,   3.20000000e+01,\n",
       "          4.10000000e+01,   4.90000000e+01,   5.40000000e+01,\n",
       "          5.30000000e+01,   7.40000000e+01,   7.00000000e+01,\n",
       "          8.70000000e+01,   1.31000000e+02,   1.16000000e+02,\n",
       "          1.55000000e+02,   2.84000000e+02,   6.03000000e+02,\n",
       "          1.73300000e+03,   5.10900000e+03,   1.43540000e+04,\n",
       "          3.34160000e+04,   6.46180000e+04,   1.04189000e+05,\n",
       "          1.40527000e+05,   1.57545000e+05,   1.49016000e+05,\n",
       "          1.19350000e+05,   8.18350000e+04,   4.99790000e+04,\n",
       "          2.78070000e+04,   1.54370000e+04,   8.91300000e+03,\n",
       "          5.81700000e+03,   4.28300000e+03,   3.26800000e+03,\n",
       "          2.69700000e+03,   2.20400000e+03,   1.91000000e+03,\n",
       "          1.81100000e+03,   1.55000000e+03,   1.37000000e+03,\n",
       "          1.21300000e+03,   1.11000000e+03,   9.41000000e+02,\n",
       "          9.15000000e+02,   8.31000000e+02,   7.09000000e+02,\n",
       "          6.83000000e+02,   6.17000000e+02,   5.73000000e+02,\n",
       "          5.15000000e+02,   4.93000000e+02,   4.65000000e+02,\n",
       "          4.33000000e+02,   3.65000000e+02,   4.03000000e+02,\n",
       "          3.80000000e+02,   3.33000000e+02,   3.36000000e+02,\n",
       "          2.99000000e+02,   2.93000000e+02,   2.61000000e+02,\n",
       "          2.51000000e+02,   2.53000000e+02,   2.30000000e+02,\n",
       "          2.44000000e+02,   2.17000000e+02,   2.43000000e+02,\n",
       "          1.97000000e+02,   2.20000000e+02,   1.87000000e+02,\n",
       "          1.87000000e+02,   1.68000000e+02,   1.70000000e+02,\n",
       "          1.67000000e+02,   1.52000000e+02,   1.65000000e+02,\n",
       "          1.65000000e+02,   1.28000000e+02,   1.59000000e+02,\n",
       "          1.65000000e+02,   1.31000000e+02,   1.30000000e+02,\n",
       "          1.43000000e+02]),\n",
       " array([ 0.  ,  0.02,  0.04,  0.06,  0.08,  0.1 ,  0.12,  0.14,  0.16,\n",
       "         0.18,  0.2 ,  0.22,  0.24,  0.26,  0.28,  0.3 ,  0.32,  0.34,\n",
       "         0.36,  0.38,  0.4 ,  0.42,  0.44,  0.46,  0.48,  0.5 ,  0.52,\n",
       "         0.54,  0.56,  0.58,  0.6 ,  0.62,  0.64,  0.66,  0.68,  0.7 ,\n",
       "         0.72,  0.74,  0.76,  0.78,  0.8 ,  0.82,  0.84,  0.86,  0.88,\n",
       "         0.9 ,  0.92,  0.94,  0.96,  0.98,  1.  ,  1.02,  1.04,  1.06,\n",
       "         1.08,  1.1 ,  1.12,  1.14,  1.16,  1.18,  1.2 ,  1.22,  1.24,\n",
       "         1.26,  1.28,  1.3 ,  1.32,  1.34,  1.36,  1.38,  1.4 ,  1.42,\n",
       "         1.44,  1.46,  1.48,  1.5 ,  1.52,  1.54,  1.56,  1.58,  1.6 ,\n",
       "         1.62,  1.64,  1.66,  1.68,  1.7 ,  1.72,  1.74,  1.76,  1.78,\n",
       "         1.8 ,  1.82,  1.84,  1.86,  1.88,  1.9 ,  1.92,  1.94,  1.96,\n",
       "         1.98,  2.  ]),\n",
       " <a list of 100 Patch objects>)"
      ]
     },
     "execution_count": 96,
     "metadata": {},
     "output_type": "execute_result"
    },
    {
     "data": {
      "image/png": "[encoded data removed]",
      "text/plain": [
       "<matplotlib.figure.Figure at 0x11c119150>"
      ]
     },
     "metadata": {},
     "output_type": "display_data"
    }
   ],
   "source": [
    "# Change these values to your desired data files\n",
    "test_data = '/eng/ssb/iraf_transition/test_data/iczgs3ygq_flt.fits'\n",
    "\n",
    "# Pull out the first science array, we also need to flatten the data before sending it to hist\n",
    "sci1 = fits.getdata(test_data,ext=1)\n",
    "sci1f = sci1.flatten()\n",
    "\n",
    "# Now we can plot our histogram, using some of the optional keywords in hist\n",
    "plt.hist(sci1f,bins=100,range=(0,2))"
   ]
  },
  {
   "cell_type": "markdown",
   "metadata": {
    "collapsed": true
   },
   "source": [
    "### imrename - NO"
   ]
  },
  {
   "cell_type": "markdown",
   "metadata": {},
   "source": [
    "### imreplace"
   ]
  },
  {
   "cell_type": "markdown",
   "metadata": {},
   "source": [
    "We can use simple ``numpy`` array manipulation to replicate imreplace.  For details on how to grow the boolean array for replacement see crgrow, or the ``skimage.dilation`` documentation"
   ]
  },
  {
   "cell_type": "code",
   "execution_count": 124,
   "metadata": {
    "collapsed": false
   },
   "outputs": [],
   "source": [
    "# Change these values to your desired data files\n",
    "test_data = '/eng/ssb/iraf_transition/test_data/iczgs3ygq_flt.fits'\n",
    "\n",
    "# Pull out the first science array, make boolean mask with your requirements\n",
    "hdu = fits.open(test_data)\n",
    "sci1 = hdu[1].data\n",
    "mask = np.logical_and(sci1>0.5, sci1<0.6)\n",
    "\n",
    "# Use mask to replace values\n",
    "new_value = 999\n",
    "sci1[mask] = new_value\n",
    "\n",
    "# We are not saving changes here\n",
    "hdu.close()"
   ]
  },
  {
   "cell_type": "markdown",
   "metadata": {},
   "source": [
    "### imslice"
   ]
  },
  {
   "cell_type": "markdown",
   "metadata": {},
   "source": [
    "**Need a datacube image, also, see below note**"
   ]
  },
  {
   "cell_type": "markdown",
   "metadata": {},
   "source": [
    "### imstack"
   ]
  },
  {
   "cell_type": "markdown",
   "metadata": {},
   "source": [
    "**This might benefit from a function, it's using some logic for the WCS solutions**"
   ]
  },
  {
   "cell_type": "markdown",
   "metadata": {},
   "source": [
    "### imstatistics"
   ]
  },
  {
   "cell_type": "markdown",
   "metadata": {},
   "source": [
    "**another good candidate for a command line wrapper**"
   ]
  },
  {
   "cell_type": "markdown",
   "metadata": {},
   "source": [
    "We will use the ``astropy.stats.sigma_clipped_stats`` function here, which has some wider capabilites then the imstatistics function.  Please see the ``stats`` package documentation for details on the advanced usage."
   ]
  },
  {
   "cell_type": "code",
   "execution_count": 9,
   "metadata": {
    "collapsed": true
   },
   "outputs": [],
   "source": [
    "from astropy import stats"
   ]
  },
  {
   "cell_type": "code",
   "execution_count": 12,
   "metadata": {
    "collapsed": false
   },
   "outputs": [
    {
     "name": "stdout",
     "output_type": "stream",
     "text": [
      "(0.82121155347072006, 0.81694626808166504, 0.058198063937460652)\n"
     ]
    }
   ],
   "source": [
    "# Change these values to your desired data files\n",
    "test_data = '/eng/ssb/iraf_transition/test_data/iczgs3ygq_flt.fits'\n",
    "sci1 = fits.getdata(test_data,ext=1)\n",
    "\n",
    "# The sigma_clipped_stats function returns the mean, median, and stddev respectively\n",
    "output = stats.sigma_clipped_stats(sci1,sigma=2.0,iters=3)\n",
    "print output"
   ]
  },
  {
   "cell_type": "markdown",
   "metadata": {},
   "source": [
    "### imsum"
   ]
  },
  {
   "cell_type": "markdown",
   "metadata": {},
   "source": [
    "We will be using the ``ccdproc`` ``Combiner`` class here.  Keep in mind that the original fits header is not retained in the ``CCDData`` object.  Please see the documentation for more details"
   ]
  },
  {
   "cell_type": "code",
   "execution_count": 15,
   "metadata": {
    "collapsed": false
   },
   "outputs": [],
   "source": [
    "from ccdproc import CCDData, Combiner"
   ]
  },
  {
   "cell_type": "code",
   "execution_count": 40,
   "metadata": {
    "collapsed": false
   },
   "outputs": [
    {
     "name": "stdout",
     "output_type": "stream",
     "text": [
      "INFO: using the unit electron passed to the FITS reader instead of the unit ELECTRONS/S in the FITS file. [ccdproc.ccddata]\n",
      "INFO: using the unit electron passed to the FITS reader instead of the unit ELECTRONS/S in the FITS file. [ccdproc.ccddata]\n",
      "[[  0.87720111   0.82106587   0.79521415 ...,   3.87308204   7.41545987\n",
      "    9.01969481]\n",
      " [  0.89028609   0.7884455    0.8240625  ...,   0.86163342   4.53510189\n",
      "    0.99109203]\n",
      " [  0.81683022   0.83273572   0.82175627 ...,   3.60699821  -7.82266164\n",
      "    2.95994186]\n",
      " ..., \n",
      " [ 40.72796059  15.36561799  -8.79329443 ...,  22.68277168  25.31048012\n",
      "   28.829813  ]\n",
      " [ 46.28870392  -4.50218874   1.74757147 ...,  13.24364138  25.70440292\n",
      "   11.0971849 ]\n",
      " [ 42.8106432   29.66250706  63.18441772 ...,   0.           9.80057049\n",
      "   22.66858006]]\n"
     ]
    }
   ],
   "source": [
    "# Change these values to your desired data files\n",
    "test_data1 = '/eng/ssb/iraf_transition/test_data/iczgs3y5q_flt.fits'\n",
    "test_data2 = '/eng/ssb/iraf_transition/test_data/iczgs3ygq_flt.fits'\n",
    "\n",
    "# First we need to pull out the science arrays to create CCDData objects\n",
    "# Our acutal unit is electrons/sec, this is not accepted by the current\n",
    "# set of units\n",
    "cdata1 = CCDData.read(test_data1, hdu=1, unit='electron')\n",
    "cdata2 = cdata1.copy()\n",
    "cdata3 = CCDData.read(test_data2, hdu=1, unit='electron')\n",
    "cdata4 = cdata3.copy()\n",
    "combiner = Combiner([cdata1, cdata2, cdata3, cdata4])\n",
    "\n",
    "# Now we can make our mask for extrema clipping\n",
    "# The equivalent of low_reject, high_reject parameter\n",
    "combiner.clip_extrema(nlow=1, nhigh=1)\n",
    "\n",
    "# And finally to combine...\n",
    "final_combine = combiner.average_combine()\n",
    "print final_combine.data"
   ]
  },
  {
   "cell_type": "markdown",
   "metadata": {},
   "source": [
    "### imtile"
   ]
  },
  {
   "cell_type": "markdown",
   "metadata": {},
   "source": [
    "**This function just tiles together arrays, I don't think we need this unless there's an actual request...**"
   ]
  },
  {
   "cell_type": "markdown",
   "metadata": {},
   "source": [
    "### listpixels"
   ]
  },
  {
   "cell_type": "markdown",
   "metadata": {},
   "source": [
    "**I know of at least one person who still uses this quite a bit, I think we should add this as a command line function**"
   ]
  },
  {
   "cell_type": "markdown",
   "metadata": {},
   "source": [
    "### minmax"
   ]
  },
  {
   "cell_type": "markdown",
   "metadata": {},
   "source": [
    "**another candidate for a command line function?**"
   ]
  },
  {
   "cell_type": "markdown",
   "metadata": {},
   "source": [
    "### sections"
   ]
  },
  {
   "cell_type": "markdown",
   "metadata": {},
   "source": [
    "**I think this is mostly used internally in iraf for keeping track of image lists..**"
   ]
  },
  {
   "cell_type": "code",
   "execution_count": null,
   "metadata": {
    "collapsed": true
   },
   "outputs": [],
   "source": []
  }
 ],
 "metadata": {
  "kernelspec": {
   "display_name": "Python 2",
   "language": "python",
   "name": "python2"
  },
  "language_info": {
   "codemirror_mode": {
    "name": "ipython",
    "version": 2
   },
   "file_extension": ".py",
   "mimetype": "text/x-python",
   "name": "python",
   "nbconvert_exporter": "python",
   "pygments_lexer": "ipython2",
   "version": "2.7.12"
  }
 },
 "nbformat": 4,
 "nbformat_minor": 0
}
