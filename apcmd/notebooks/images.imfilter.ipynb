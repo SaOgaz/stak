{
 "cells": [
  {
   "cell_type": "markdown",
   "metadata": {},
   "source": [
    "## Some Notes"
   ]
  },
  {
   "cell_type": "markdown",
   "metadata": {},
   "source": [
    "A note about astropy convolutions, ``convolve()`` is better for small kernels, ``convolve_fft()`` is better for larger kernels, http://docs.astropy.org/en/stable/convolution/, http://docs.astropy.org/en/stable/convolution/using.html.  We will use ``convolve`` for the examples in this notebook.  You can select the following boundary rules: none, fill, wrap, and extend (?). Convolution always done as floating point.  Check out list of kernels @ astropy,scipy,stsci one\n",
    "\n",
    "** Note about extra astropy features, but somethings only in scipy **"
   ]
  },
  {
   "cell_type": "markdown",
   "metadata": {},
   "source": [
    "## General Imports\n",
    "These imports will be used for a majority of the tasks listed below.  More specific imports can be found in the task section."
   ]
  },
  {
   "cell_type": "code",
   "execution_count": 31,
   "metadata": {
    "collapsed": false
   },
   "outputs": [],
   "source": [
    "from astropy.io import fits\n",
    "import numpy as np\n",
    "from astropy.convolution import ap_convolve\n",
    "from scipy.ndimage import convolve as sp_convolve"
   ]
  },
  {
   "cell_type": "markdown",
   "metadata": {},
   "source": [
    "## Imports for Plotting Examples"
   ]
  },
  {
   "cell_type": "code",
   "execution_count": 102,
   "metadata": {
    "collapsed": true
   },
   "outputs": [],
   "source": [
    "# imports..."
   ]
  },
  {
   "cell_type": "markdown",
   "metadata": {},
   "source": [
    "<center> <h2>Convolution Functions</h2> </center>"
   ]
  },
  {
   "cell_type": "markdown",
   "metadata": {},
   "source": [
    "### convolve"
   ]
  },
  {
   "cell_type": "markdown",
   "metadata": {},
   "source": [
    "The convolve task allows you to convolve your data array with a kernel of your own creation.  Here we show a simple example of a rectangular kernel applied to a 10 by 10 array using the ``astropy.convolution.convolve`` function"
   ]
  },
  {
   "cell_type": "code",
   "execution_count": 19,
   "metadata": {
    "collapsed": false
   },
   "outputs": [],
   "source": [
    "# create test array\n",
    "my_arr = np.random.randint(0,10,(10,10))\n",
    "# setup our custom kernel\n",
    "my_kernel = [[0,1,0],[1,0,1],[0,1,0],[1,0,1],[0,1,0]]\n",
    "# perform convolution\n",
    "result = convolve(my_arr, my_kernel, normalize_kernel=True, boundary='wrap')"
   ]
  },
  {
   "cell_type": "markdown",
   "metadata": {},
   "source": [
    "### boxcar"
   ]
  },
  {
   "cell_type": "markdown",
   "metadata": {},
   "source": [
    "The boxcar convolution does a boxcar smoothing with a given box size, and applies this running average to an array.  Here we show a 2-D example using ``Box2DKernel``, which is convient for square box sizes."
   ]
  },
  {
   "cell_type": "code",
   "execution_count": 7,
   "metadata": {
    "collapsed": true
   },
   "outputs": [],
   "source": [
    "from astropy.convolution import Box2DKernel"
   ]
  },
  {
   "cell_type": "code",
   "execution_count": 18,
   "metadata": {
    "collapsed": true
   },
   "outputs": [],
   "source": [
    "# create test array\n",
    "my_arr = np.random.randint(0,10,(10,10))\n",
    "# setup our kernel\n",
    "box_kernel = Box2DKernel(3)\n",
    "# perform convolution\n",
    "result = convolve(my_arr, box_kernel, normalize_kernel=True)"
   ]
  },
  {
   "cell_type": "markdown",
   "metadata": {},
   "source": [
    "Add example of rectangular boxcar / ask astropy why they didn't include this..."
   ]
  },
  {
   "cell_type": "markdown",
   "metadata": {},
   "source": [
    "### gauss"
   ]
  },
  {
   "cell_type": "markdown",
   "metadata": {},
   "source": [
    "The gaussian kernel convolution applies a gaussian function convolution to your data array.  The ``Gaussian2DKernel`` size is defined slightly differently from the IRAF version: http://docs.astropy.org/en/stable/api/astropy.convolution.Gaussian2DKernel.html#astropy.convolution.Gaussian2DKernel"
   ]
  },
  {
   "cell_type": "code",
   "execution_count": 21,
   "metadata": {
    "collapsed": true
   },
   "outputs": [],
   "source": [
    "from astropy.convolution import Gaussian2DKernel"
   ]
  },
  {
   "cell_type": "code",
   "execution_count": 32,
   "metadata": {
    "collapsed": false
   },
   "outputs": [],
   "source": [
    "# create test array\n",
    "my_arr = np.random.randint(0,10,(10,10))\n",
    "# setup our kernel, with 6 sigma and a 3 in x by 5 in y size\n",
    "gauss_kernel = Gaussian2DKernel(6, x_size=3, y_size=5)\n",
    "# perform convolution\n",
    "result = convolve(my_arr, gauss_kernel, normalize_kernel=True)"
   ]
  },
  {
   "cell_type": "markdown",
   "metadata": {},
   "source": [
    "### laplace"
   ]
  },
  {
   "cell_type": "markdown",
   "metadata": {},
   "source": [
    "The laplace task runs a image convolution using a laplacian filter with a subset of footprints.  For the ``scipy.ndimage.filter.laplace`` function we will be using, you can feed any footprint in as an array to create your kernel."
   ]
  },
  {
   "cell_type": "code",
   "execution_count": 28,
   "metadata": {
    "collapsed": true
   },
   "outputs": [],
   "source": [
    "from scipy.ndimage import laplace"
   ]
  },
  {
   "cell_type": "code",
   "execution_count": 37,
   "metadata": {
    "collapsed": false
   },
   "outputs": [],
   "source": [
    "# create test array\n",
    "my_arr = np.random.randint(0,10,(10,10))\n",
    "# setup our laplace kernel with a target footprint (diagonals in IRAF)\n",
    "footprint = np.array([[0, 1, 0], [1, 1, 1], [0, 1, 0]])\n",
    "laplace_kernel = laplace(footprint)\n",
    "# perform scipy convolution\n",
    "result = sconvolve(my_arr, laplace_kernel)"
   ]
  },
  {
   "cell_type": "markdown",
   "metadata": {},
   "source": [
    "### gradient"
   ]
  },
  {
   "cell_type": "code",
   "execution_count": 46,
   "metadata": {
    "collapsed": true
   },
   "outputs": [],
   "source": [
    "from scipy.ndimage.filters import generic_gradient_magnitude\n",
    "from scipy.misc import derivative\n",
    "from scipy import exp2"
   ]
  },
  {
   "cell_type": "code",
   "execution_count": 56,
   "metadata": {
    "collapsed": true
   },
   "outputs": [
    {
     "name": "stdout",
     "output_type": "stream",
     "text": [
      "1.99999999995\n"
     ]
    },
    {
     "ename": "TypeError",
     "evalue": "f() takes exactly 1 argument (5 given)",
     "output_type": "error",
     "traceback": [
      "\u001b[0;31m---------------------------------------------------------------------------\u001b[0m",
      "\u001b[0;31mTypeError\u001b[0m                                 Traceback (most recent call last)",
      "\u001b[0;32m<ipython-input-56-4de9aeb9411c>\u001b[0m in \u001b[0;36m<module>\u001b[0;34m()\u001b[0m\n\u001b[1;32m      2\u001b[0m \u001b[0mder\u001b[0m \u001b[0;34m=\u001b[0m \u001b[0mderivative\u001b[0m\u001b[0;34m(\u001b[0m\u001b[0mf\u001b[0m\u001b[0;34m,\u001b[0m\u001b[0;36m1.0\u001b[0m\u001b[0;34m,\u001b[0m\u001b[0mdx\u001b[0m\u001b[0;34m=\u001b[0m\u001b[0;36m1e-6\u001b[0m\u001b[0;34m)\u001b[0m\u001b[0;34m\u001b[0m\u001b[0m\n\u001b[1;32m      3\u001b[0m \u001b[0;32mprint\u001b[0m \u001b[0mder\u001b[0m\u001b[0;34m\u001b[0m\u001b[0m\n\u001b[0;32m----> 4\u001b[0;31m \u001b[0mout\u001b[0m \u001b[0;34m=\u001b[0m \u001b[0mgeneric_gradient_magnitude\u001b[0m\u001b[0;34m(\u001b[0m\u001b[0mfootprint\u001b[0m\u001b[0;34m,\u001b[0m\u001b[0mf\u001b[0m\u001b[0;34m)\u001b[0m\u001b[0;34m\u001b[0m\u001b[0m\n\u001b[0m\u001b[1;32m      5\u001b[0m \u001b[0mout\u001b[0m\u001b[0;34m\u001b[0m\u001b[0m\n",
      "\u001b[0;32m/Users/ogaz/miniconda2/envs/irafdev/lib/python2.7/site-packages/scipy/ndimage/filters.pyc\u001b[0m in \u001b[0;36mgeneric_gradient_magnitude\u001b[0;34m(input, derivative, output, mode, cval, extra_arguments, extra_keywords)\u001b[0m\n\u001b[1;32m    534\u001b[0m     \u001b[0;32mif\u001b[0m \u001b[0mlen\u001b[0m\u001b[0;34m(\u001b[0m\u001b[0maxes\u001b[0m\u001b[0;34m)\u001b[0m \u001b[0;34m>\u001b[0m \u001b[0;36m0\u001b[0m\u001b[0;34m:\u001b[0m\u001b[0;34m\u001b[0m\u001b[0m\n\u001b[1;32m    535\u001b[0m         derivative(input, axes[0], output, mode, cval,\n\u001b[0;32m--> 536\u001b[0;31m                    *extra_arguments, **extra_keywords)\n\u001b[0m\u001b[1;32m    537\u001b[0m         \u001b[0mnumpy\u001b[0m\u001b[0;34m.\u001b[0m\u001b[0mmultiply\u001b[0m\u001b[0;34m(\u001b[0m\u001b[0moutput\u001b[0m\u001b[0;34m,\u001b[0m \u001b[0moutput\u001b[0m\u001b[0;34m,\u001b[0m \u001b[0moutput\u001b[0m\u001b[0;34m)\u001b[0m\u001b[0;34m\u001b[0m\u001b[0m\n\u001b[1;32m    538\u001b[0m         \u001b[0;32mfor\u001b[0m \u001b[0mii\u001b[0m \u001b[0;32min\u001b[0m \u001b[0mrange\u001b[0m\u001b[0;34m(\u001b[0m\u001b[0;36m1\u001b[0m\u001b[0;34m,\u001b[0m \u001b[0mlen\u001b[0m\u001b[0;34m(\u001b[0m\u001b[0maxes\u001b[0m\u001b[0;34m)\u001b[0m\u001b[0;34m)\u001b[0m\u001b[0;34m:\u001b[0m\u001b[0;34m\u001b[0m\u001b[0m\n",
      "\u001b[0;31mTypeError\u001b[0m: f() takes exactly 1 argument (5 given)"
     ]
    }
   ],
   "source": [
    "footprint = np.array([[1, 1, 1], [1, 1, 1], [1, 1, 1]])\n",
    "out = generic_gradient_magnitude(footprint,????)"
   ]
  },
  {
   "cell_type": "markdown",
   "metadata": {},
   "source": [
    "<center> <h2>Convolution Functions With Masking</h2> </center>"
   ]
  },
  {
   "cell_type": "code",
   "execution_count": 103,
   "metadata": {
    "collapsed": true
   },
   "outputs": [],
   "source": [
    "# do this"
   ]
  },
  {
   "cell_type": "markdown",
   "metadata": {},
   "source": [
    "<center> <h2>Filter Functions</h2> </center>"
   ]
  },
  {
   "cell_type": "markdown",
   "metadata": {},
   "source": [
    "### median / rmedian"
   ]
  },
  {
   "cell_type": "markdown",
   "metadata": {},
   "source": [
    "Apply a median filter to your data array.  We will use the ``scipy.ndimage.filters.median_filter`` function."
   ]
  },
  {
   "cell_type": "code",
   "execution_count": 71,
   "metadata": {
    "collapsed": true
   },
   "outputs": [],
   "source": [
    "from scipy.ndimage.filters import median_filter"
   ]
  },
  {
   "cell_type": "code",
   "execution_count": 73,
   "metadata": {
    "collapsed": false
   },
   "outputs": [],
   "source": [
    "# create test array\n",
    "my_arr = np.random.randint(0,10,(10,10))\n",
    "# apply median filter\n",
    "filtered = median_filter(my_arr,size=(3,4))"
   ]
  },
  {
   "cell_type": "markdown",
   "metadata": {},
   "source": [
    "For a ring median filter we can supply a more specific footprint to the ``median_filter`` function.  You can easily generate this footprint using the ``astroimtools`` library"
   ]
  },
  {
   "cell_type": "code",
   "execution_count": 81,
   "metadata": {
    "collapsed": false
   },
   "outputs": [],
   "source": [
    "from astroimtools import circular_annulus_footprint\n",
    "\n",
    "#depreciation warning, is fixed already in the dev version, not sure when this is getting pushed"
   ]
  },
  {
   "cell_type": "code",
   "execution_count": 82,
   "metadata": {
    "collapsed": true
   },
   "outputs": [],
   "source": [
    "# create test array\n",
    "my_arr = np.random.randint(0,10,(10,10))\n",
    "# create annulus filter\n",
    "fp = circular_annulus_footprint(10, 12)\n",
    "# apply median filter\n",
    "filtered = median_filter(my_arr, footprint=fp)"
   ]
  },
  {
   "cell_type": "markdown",
   "metadata": {},
   "source": [
    "<center> <h2>Creating Your Own Filter Functions</h2> </center>"
   ]
  },
  {
   "cell_type": "markdown",
   "metadata": {},
   "source": [
    "###  mode / rmode"
   ]
  },
  {
   "cell_type": "markdown",
   "metadata": {},
   "source": [
    "The mode calculation equation used in the mode and rmode IRAF tasks (3.0\\*median - 2.0\\*mean) can be recreated using the ``scipy.ndimage.generic_filter`` function. ** explination for approximation**"
   ]
  },
  {
   "cell_type": "code",
   "execution_count": 87,
   "metadata": {
    "collapsed": true
   },
   "outputs": [],
   "source": [
    "from scipy.ndimage import generic_filter\n",
    "from astroimtools import circular_annulus_footprint"
   ]
  },
  {
   "cell_type": "code",
   "execution_count": 86,
   "metadata": {
    "collapsed": false
   },
   "outputs": [],
   "source": [
    "def mode_func(in_arr):\n",
    "    f = 3.0*np.median(in_arr) - 2.0*np.mean(in_arr)\n",
    "    return f"
   ]
  },
  {
   "cell_type": "markdown",
   "metadata": {},
   "source": [
    "For a box footprint:"
   ]
  },
  {
   "cell_type": "code",
   "execution_count": 91,
   "metadata": {
    "collapsed": false
   },
   "outputs": [],
   "source": [
    "# create test array\n",
    "my_arr = np.random.randint(0,10,(10,10))\n",
    "# apply mode filter\n",
    "filtered = generic_filter(my_arr,mode_func,size=5)"
   ]
  },
  {
   "cell_type": "markdown",
   "metadata": {},
   "source": [
    "For a ring footprint:"
   ]
  },
  {
   "cell_type": "code",
   "execution_count": 99,
   "metadata": {
    "collapsed": false
   },
   "outputs": [],
   "source": [
    "# create test array\n",
    "my_arr = np.random.randint(0,10,(20,20))\n",
    "# create annulus filter\n",
    "fp = circular_annulus_footprint(5, 9)\n",
    "# apply mode filter\n",
    "filtered = generic_filter(my_arr,mode_func,footprint=fp)"
   ]
  },
  {
   "cell_type": "markdown",
   "metadata": {},
   "source": [
    "## Not Covering"
   ]
  },
  {
   "cell_type": "markdown",
   "metadata": {},
   "source": [
    "### runmed"
   ]
  },
  {
   "cell_type": "markdown",
   "metadata": {},
   "source": [
    "Please see **images.imutil.imsum**"
   ]
  },
  {
   "cell_type": "markdown",
   "metadata": {},
   "source": [
    "### fmedian\n",
    "\n",
    "runmed seems to be kind of complicated, should figure out if people ever use this..."
   ]
  },
  {
   "cell_type": "markdown",
   "metadata": {},
   "source": [
    "### fmode"
   ]
  }
 ],
 "metadata": {
  "kernelspec": {
   "display_name": "Python 2",
   "language": "python",
   "name": "python2"
  },
  "language_info": {
   "codemirror_mode": {
    "name": "ipython",
    "version": 2
   },
   "file_extension": ".py",
   "mimetype": "text/x-python",
   "name": "python",
   "nbconvert_exporter": "python",
   "pygments_lexer": "ipython2",
   "version": "2.7.12"
  }
 },
 "nbformat": 4,
 "nbformat_minor": 0
}
